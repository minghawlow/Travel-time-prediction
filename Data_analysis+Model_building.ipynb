{
 "cells": [
  {
   "cell_type": "markdown",
   "id": "9c9c05d2",
   "metadata": {},
   "source": [
    "# Import Libraries\n"
   ]
  },
  {
   "cell_type": "code",
   "execution_count": null,
   "id": "ddc70bbf",
   "metadata": {},
   "outputs": [],
   "source": [
    "!pip install seaborn\n",
    "!pip install plotly\n",
    "!pip install openpyxl\n",
    "!pip install xgboost\n",
    "!pip install optuna\n",
    "!pip install osmnx"
   ]
  },
  {
   "cell_type": "code",
   "execution_count": null,
   "id": "ee2fcc82",
   "metadata": {},
   "outputs": [],
   "source": [
    "import pandas as pd\n",
    "import geopandas as gpd\n",
    "import matplotlib.pyplot as plt\n",
    "import numpy as np\n",
    "import seaborn as sns\n",
    "import plotly.graph_objects as go\n",
    "import xgboost as xgb\n",
    "import optuna\n",
    "from sklearn import metrics\n",
    "from sklearn.svm import SVR\n",
    "from sklearn.model_selection import train_test_split\n",
    "from sklearn.preprocessing import OrdinalEncoder\n",
    "from sklearn.ensemble import RandomForestRegressor\n",
    "from sklearn.linear_model import LinearRegression\n",
    "from sklearn.ensemble import StackingRegressor\n",
    "from xgboost import XGBRegressor\n"
   ]
  },
  {
   "cell_type": "code",
   "execution_count": null,
   "id": "fda5cdba",
   "metadata": {},
   "outputs": [],
   "source": [
    "plt.rcParams['figure.figsize'] = [10, 10]"
   ]
  },
  {
   "cell_type": "markdown",
   "id": "d866e9ac",
   "metadata": {},
   "source": [
    "# Data Checking and Preparation"
   ]
  },
  {
   "cell_type": "code",
   "execution_count": null,
   "id": "69601940",
   "metadata": {},
   "outputs": [],
   "source": [
    "training_file_path = '../MEC_dataset/training_dataset.csv'\n",
    "testing_file_path = '../MEC_dataset/testing_dataset.csv'\n",
    "london_file_path = '../MEC_dataset/london.json'\n",
    "pd_file_path = '../MEC_dataset/population_density.xlsx'\n",
    "\n",
    "\n",
    "training_data = pd.read_csv(training_file_path)\n",
    "testing_data = pd.read_csv(testing_file_path)\n",
    "london = gpd.read_file(london_file_path)\n",
    "pd = pd.read_excel(pd_file_path)"
   ]
  },
  {
   "cell_type": "markdown",
   "id": "6ba65a49",
   "metadata": {},
   "source": [
    "## Training Data Handling"
   ]
  },
  {
   "cell_type": "code",
   "execution_count": null,
   "id": "1170a0a0",
   "metadata": {
    "scrolled": false
   },
   "outputs": [],
   "source": [
    "training_data.head()"
   ]
  },
  {
   "cell_type": "code",
   "execution_count": null,
   "id": "8f9cb8ce",
   "metadata": {},
   "outputs": [],
   "source": [
    "training_data.info()"
   ]
  },
  {
   "cell_type": "code",
   "execution_count": null,
   "id": "3aa99d17",
   "metadata": {},
   "outputs": [],
   "source": [
    "training_data.describe().transpose()"
   ]
  },
  {
   "cell_type": "code",
   "execution_count": null,
   "id": "03ef74a6",
   "metadata": {},
   "outputs": [],
   "source": [
    "training_data.nunique()"
   ]
  },
  {
   "cell_type": "code",
   "execution_count": null,
   "id": "455a92f1",
   "metadata": {},
   "outputs": [],
   "source": [
    "data = training_data['mean_travel_time']\n",
    "fig = go.Figure()\n",
    "fig.add_trace(go.Box(y= data))\n",
    "fig.show()"
   ]
  },
  {
   "cell_type": "code",
   "execution_count": null,
   "id": "f6f6d064",
   "metadata": {},
   "outputs": [],
   "source": [
    "#outliers = [x for x in training_data[\"mean_travel_time\"] if x > 3704.49]\n",
    "#outliers_removed = [x for x in training_data[\"mean_travel_time\"] if x <= 3704.49]"
   ]
  },
  {
   "cell_type": "markdown",
   "id": "109665fe",
   "metadata": {},
   "source": [
    "## London Data Handling"
   ]
  },
  {
   "cell_type": "code",
   "execution_count": null,
   "id": "98f6fce3",
   "metadata": {},
   "outputs": [],
   "source": [
    "london.head()"
   ]
  },
  {
   "cell_type": "code",
   "execution_count": null,
   "id": "0a63fbdd",
   "metadata": {},
   "outputs": [],
   "source": [
    "london[\"MOVEMENT_ID\"] = london[\"MOVEMENT_ID\"].astype(\"int64\")\n",
    "london.info()"
   ]
  },
  {
   "cell_type": "markdown",
   "id": "ac897976",
   "metadata": {},
   "source": [
    "# Data Analysis"
   ]
  },
  {
   "cell_type": "code",
   "execution_count": null,
   "id": "c047915a",
   "metadata": {},
   "outputs": [],
   "source": [
    "df = training_data\n",
    "\n"
   ]
  },
  {
   "cell_type": "code",
   "execution_count": null,
   "id": "841e3175",
   "metadata": {},
   "outputs": [],
   "source": [
    "def hist_plot(df):\n",
    "    \"\"\" Histogram Plot \"\"\"\n",
    "    \n",
    "    data_var = list(df.columns)\n",
    "  \n",
    "    figure, axes = plt.subplots(df.shape[1], 1, figsize=(16,len(data_var)*2))\n",
    "    figure.subplots_adjust(hspace=1)\n",
    "    for i, n in enumerate(df.columns):\n",
    "        sns.histplot(data = df[n], ax=axes.flatten()[i])  # widths = 0.5, patch_artist=True, vert=0\n",
    "    plt.tight_layout()\n",
    "    plt.style.use('seaborn-whitegrid')\n",
    "    plt.close()\n",
    "  \n",
    "    return figure"
   ]
  },
  {
   "cell_type": "code",
   "execution_count": null,
   "id": "23e3e36b",
   "metadata": {
    "scrolled": false
   },
   "outputs": [],
   "source": [
    "hist_plot(df)"
   ]
  },
  {
   "cell_type": "code",
   "execution_count": null,
   "id": "0c6cf5d5",
   "metadata": {},
   "outputs": [],
   "source": [
    "df.skew().sort_values(ascending=False)"
   ]
  },
  {
   "cell_type": "code",
   "execution_count": null,
   "id": "d3058e62",
   "metadata": {},
   "outputs": [],
   "source": [
    "sns.pairplot(df)"
   ]
  },
  {
   "cell_type": "code",
   "execution_count": null,
   "id": "4af63ed2",
   "metadata": {
    "scrolled": false
   },
   "outputs": [],
   "source": [
    "corr = df.corr()\n",
    "sns.heatmap(corr, annot= True)"
   ]
  },
  {
   "cell_type": "markdown",
   "id": "8bc60540",
   "metadata": {},
   "source": [
    "##### Strong positive correlation between mean travel time and distance"
   ]
  },
  {
   "cell_type": "markdown",
   "id": "3dfa9143",
   "metadata": {},
   "source": [
    "# Feature Transformation"
   ]
  },
  {
   "cell_type": "code",
   "execution_count": null,
   "id": "c087f90c",
   "metadata": {},
   "outputs": [],
   "source": [
    "df['road_distance_by_traveltime_sqrt'] =  np.sqrt(df['road_distance_by_traveltime'])\n",
    "df['oneway_length_sqrt'] =  np.sqrt(df['oneway_length'])\n"
   ]
  },
  {
   "cell_type": "code",
   "execution_count": null,
   "id": "268a2316",
   "metadata": {
    "scrolled": false
   },
   "outputs": [],
   "source": [
    "df.head()"
   ]
  },
  {
   "cell_type": "code",
   "execution_count": null,
   "id": "74317410",
   "metadata": {
    "scrolled": false
   },
   "outputs": [],
   "source": [
    "hist_plot(df)"
   ]
  },
  {
   "cell_type": "code",
   "execution_count": null,
   "id": "4f07987c",
   "metadata": {},
   "outputs": [],
   "source": [
    "df.skew().sort_values(ascending=False)"
   ]
  },
  {
   "cell_type": "markdown",
   "id": "f7c8335d",
   "metadata": {},
   "source": [
    "# Modelling"
   ]
  },
  {
   "cell_type": "code",
   "execution_count": null,
   "id": "5dd26e00",
   "metadata": {},
   "outputs": [],
   "source": [
    "y = df.mean_travel_time\n",
    "features = ['sourceid','dstid','dow','area_reci_src','area_reci_dst','fastest_travel_time','maxspeed_traveltime','dist_geo_sqrt','oneway_length_sqrt','la_name_src','la_name_dst','pd_src','pd_dst','direction']\n",
    "X = df[features]\n",
    "\n",
    "X_train, X_valid, y_train, y_valid = train_test_split(X, y, train_size=0.8, test_size=0.2,\n",
    "                                                                random_state=123)"
   ]
  },
  {
   "cell_type": "code",
   "execution_count": null,
   "id": "d04fad2b",
   "metadata": {},
   "outputs": [],
   "source": [
    "params = {'learning_rate': 0.024704224090189218,\n",
    " 'reg_lambda': 2.936733664947117,\n",
    " 'reg_alpha': 57.40870727344214,\n",
    " 'subsample': 0.6214411004415425,\n",
    " 'colsample_bytree': 0.6251175460789683,\n",
    " 'max_depth': 6}\n",
    "my_model_3 = XGBRegressor(n_estimators = 3642, random_state = 123,**params)\n",
    "\n",
    "my_model_3.fit(X_train,y_train,\n",
    "              early_stopping_rounds = 10,\n",
    "              eval_set = [(X_valid,y_valid)])\n",
    "\n",
    "predictions_3 = my_model_3.predict(X_valid)\n",
    "mse_3 = metrics.mean_squared_error(y_valid,predictions_3)"
   ]
  },
  {
   "cell_type": "code",
   "execution_count": null,
   "id": "43c8ceed",
   "metadata": {},
   "outputs": [],
   "source": [
    "print(\"Mean Squared Error:\" , mse_3)"
   ]
  },
  {
   "cell_type": "markdown",
   "id": "74f4b07d",
   "metadata": {},
   "source": [
    "RMSE = 195.39"
   ]
  },
  {
   "cell_type": "code",
   "execution_count": null,
   "id": "a0341b50",
   "metadata": {},
   "outputs": [],
   "source": [
    "xgb.plot_importance(my_model_3, max_num_features=15)"
   ]
  },
  {
   "cell_type": "code",
   "execution_count": null,
   "id": "e0df377e",
   "metadata": {},
   "outputs": [],
   "source": [
    "plt.scatter(y_valid,predictions_3)\n",
    "xpoints = ypoints = plt.xlim()\n",
    "plt.plot(xpoints, ypoints, 'k-', alpha=0.75, zorder=0)\n",
    "plt.xlabel('Actual')\n",
    "plt.ylabel('Pred')\n",
    "plt.show()"
   ]
  },
  {
   "cell_type": "code",
   "execution_count": null,
   "id": "a44e2eca",
   "metadata": {},
   "outputs": [],
   "source": [
    "para = {\n",
    " 'max_depth':165,\n",
    " 'max_samples': 0.984425471209481,\n",
    " 'max_features': 'auto',\n",
    " 'min_samples_leaf': 1,\n",
    " 'min_samples_split': 2,\n",
    " 'n_estimators': 1832}\n",
    "rf2 = RandomForestRegressor(**para, random_state=123)\n",
    "\n",
    "rf2.fit(X_train,y_train)\n",
    "\n",
    "predictions_rf2 = rf2.predict(X_valid)\n",
    "\n",
    "mse_rf2 = metrics.mean_squared_error(y_valid,predictions_rf2)\n",
    "\n",
    "print(\"RMSE:\" , np.sqrt(mse_rf2))\n",
    "\n"
   ]
  },
  {
   "cell_type": "code",
   "execution_count": null,
   "id": "566a576f",
   "metadata": {},
   "outputs": [],
   "source": [
    "plt.scatter(y_valid,predictions_rf2)\n",
    "xpoints = ypoints = plt.xlim()\n",
    "plt.plot(xpoints, ypoints, 'k-', alpha=0.75, zorder=0)\n",
    "plt.xlabel('Actual')\n",
    "plt.ylabel('Pred')\n",
    "plt.show()"
   ]
  },
  {
   "cell_type": "code",
   "execution_count": null,
   "id": "19239b6e",
   "metadata": {},
   "outputs": [],
   "source": [
    "rf2.feature_importances_"
   ]
  },
  {
   "cell_type": "code",
   "execution_count": null,
   "id": "dadea753",
   "metadata": {},
   "outputs": [],
   "source": [
    "plt.barh(features, rf2.feature_importances_)"
   ]
  },
  {
   "cell_type": "code",
   "execution_count": null,
   "id": "d8f51286",
   "metadata": {},
   "outputs": [],
   "source": [
    "params = {'degree': 5, 'coef0': 4.998232431157724, 'tol': 0.8292520780334797, 'C': 96.53621561878447, 'epsilon': 0.20830073226294563}\n",
    "sv = SVR(kernel = 'poly',\n",
    "                gamma = 'scale',\n",
    "                shrinking = True,\n",
    "                cache_size = 200,\n",
    "                verbose = False,\n",
    "                max_iter =-1,**params)\n",
    "\n",
    "sv.fit(X_train, y_train)\n",
    "SVR_predictions = sv.predict(X_valid)\n",
    "mse_svr = metrics.mean_squared_error(y_valid,SVR_predictions)\n",
    "print(\"RMSE:\" , np.sqrt(mse_svr))"
   ]
  },
  {
   "cell_type": "code",
   "execution_count": null,
   "id": "3ccf5dca",
   "metadata": {},
   "outputs": [],
   "source": [
    "plt.scatter(y_valid,SVR_predictions)\n",
    "xpoints = ypoints = plt.xlim()\n",
    "plt.plot(xpoints, ypoints, 'k-', alpha=0.75, zorder=0)\n",
    "plt.xlabel('Actual')\n",
    "plt.ylabel('Pred')\n",
    "plt.show()"
   ]
  },
  {
   "cell_type": "code",
   "execution_count": null,
   "id": "b114146e",
   "metadata": {},
   "outputs": [],
   "source": [
    "def run_rf(trial):\n",
    "    fold = 0\n",
    "    n_estimators = trial.suggest_int(\"n_estimators\",100,2500)\n",
    "    min_samples_split = trial.suggest_int(\"min_samples_split\", 2, 5)\n",
    "    min_samples_leaf = trial.suggest_int(\"min_samples_leaf\", 1, 5)\n",
    "    max_samples = trial.suggest_float(\"max_samples\", 0, 1.0)\n",
    "    max_depth = trial.suggest_int(\"max_depth\", 1, 300)\n",
    "    \n",
    "    \n",
    "\n",
    "    rf3 = RandomForestRegressor(max_features = 'auto', n_jobs = -1,\n",
    "                 random_state=123,\n",
    "                 n_estimators=n_estimators,\n",
    "                 min_samples_split=min_samples_split,\n",
    "                 min_samples_leaf=min_samples_leaf,\n",
    "                 max_samples=max_samples,\n",
    "                 max_depth=max_depth)\n",
    "    \n",
    "    rf3.fit(X_train,y_train)\n",
    "              \n",
    "\n",
    "    predictions_rf3 = rf3.predict(X_valid)\n",
    "    rmse_rf3 = np.sqrt(metrics.mean_squared_error(y_valid,predictions_rf3))\n",
    "    \n",
    "    return rmse_rf3"
   ]
  },
  {
   "cell_type": "code",
   "execution_count": null,
   "id": "8189ebd8",
   "metadata": {},
   "outputs": [],
   "source": [
    "study = optuna.create_study(direction=\"minimize\")\n",
    "study.optimize(run_rf, n_trials=1000)"
   ]
  },
  {
   "cell_type": "code",
   "execution_count": null,
   "id": "dd2cd32a",
   "metadata": {},
   "outputs": [],
   "source": [
    "study.best_params"
   ]
  },
  {
   "cell_type": "markdown",
   "id": "4b1d6778",
   "metadata": {},
   "source": [
    "{'n_estimators': 398,\n",
    " 'min_samples_split': 2,\n",
    " 'max_leaf_nodes': 100,\n",
    " 'min_samples_leaf': 2,\n",
    " 'max_samples': 0.3096678338818894,\n",
    " 'max_depth': 19}\n",
    " \n",
    " rmse - 223.53955368449803\n",
    " {'n_estimators': 1499,\n",
    " 'min_samples_split': 3,\n",
    " 'min_samples_leaf': 1,\n",
    " 'max_samples': 0.9807743661462416,\n",
    " 'max_depth': 71}\n",
    " \n",
    " rmse - 223.34405822395667\n",
    " {'n_estimators': 1832,\n",
    " 'min_samples_split': 2,\n",
    " 'min_samples_leaf': 1,\n",
    " 'max_samples': 0.984425471209481,\n",
    " 'max_depth': 165}"
   ]
  },
  {
   "cell_type": "code",
   "execution_count": null,
   "id": "172f0bd7",
   "metadata": {},
   "outputs": [],
   "source": [
    "def run(trial):\n",
    "    fold = 0\n",
    "    n_estimators = trial.suggest_int(\"n_estimators\",50,5000)\n",
    "    learning_rate = trial.suggest_float(\"learning_rate\", 1e-2, 0.5, log=True)\n",
    "    reg_lambda = trial.suggest_loguniform(\"reg_lambda\", 1e-8, 100.0)\n",
    "    reg_alpha = trial.suggest_loguniform(\"reg_alpha\", 1e-8, 100.0)\n",
    "    subsample = trial.suggest_float(\"subsample\", 0.1, 1.0)\n",
    "    colsample_bytree = trial.suggest_float(\"colsample_bytree\", 0.1, 1.0)\n",
    "    max_depth = trial.suggest_int(\"max_depth\", 1, 12)\n",
    "    min_child_weight = trial.suggest_int(\"min_child_weight\",1,10)\n",
    "    \n",
    "\n",
    "    my_model_4 = XGBRegressor(\n",
    "                 random_state=123,\n",
    "                 n_estimators=n_estimators,\n",
    "                 learning_rate=learning_rate,\n",
    "                 reg_lambda=reg_lambda,\n",
    "                 reg_alpha=reg_alpha,\n",
    "                 subsample=subsample,\n",
    "                 colsample_bytree=colsample_bytree,\n",
    "                 max_depth=max_depth,\n",
    "                 min_child_weight=min_child_weight\n",
    "    )\n",
    "    \n",
    "    my_model_4.fit(X_train,y_train,\n",
    "              early_stopping_rounds = 10,\n",
    "              eval_set = [(X_valid,y_valid)])\n",
    "\n",
    "    predictions_4 = my_model_4.predict(X_valid)\n",
    "    mse_4 = metrics.mean_squared_error(y_valid,predictions_4)\n",
    "    \n",
    "    return mse_4\n",
    "    "
   ]
  },
  {
   "cell_type": "code",
   "execution_count": null,
   "id": "5cbe65da",
   "metadata": {},
   "outputs": [],
   "source": [
    "study = optuna.create_study(direction=\"minimize\")\n",
    "study.optimize(run, n_trials=1000)"
   ]
  },
  {
   "cell_type": "code",
   "execution_count": null,
   "id": "02e11ec4",
   "metadata": {},
   "outputs": [],
   "source": [
    "study.best_params"
   ]
  },
  {
   "cell_type": "markdown",
   "id": "536421c8",
   "metadata": {},
   "source": [
    "rmse - 267.99805\n",
    "{'n_estimators': 2611,\n",
    " 'learning_rate': 0.033936810024779974,\n",
    " 'reg_lambda': 2.411226992822402e-06,\n",
    " 'reg_alpha': 0.05280311765925585,\n",
    " 'subsample': 0.7839141035249971,\n",
    " 'colsample_bytree': 0.9059163697590156,\n",
    " 'max_depth': 6}\n",
    " \n",
    " rmse - 267.48697\n",
    " {'n_estimators': 2702,\n",
    " 'learning_rate': 0.024368124105536324,\n",
    " 'reg_lambda': 1.0137028551773858e-05,\n",
    " 'reg_alpha': 11.476304626451821,\n",
    " 'subsample': 0.7237891878291387,\n",
    " 'colsample_bytree': 0.8551575170389154,\n",
    " 'max_depth': 6}\n",
    " \n",
    " rmse - 265.75238\n",
    "{'n_estimators': 4231,\n",
    " 'learning_rate': 0.020242333551370135,\n",
    " 'reg_lambda': 0.5143599572024665,\n",
    " 'reg_alpha': 3.81094005425332,\n",
    " 'subsample': 0.8566966217796573,\n",
    " 'colsample_bytree': 0.7878827596556054,\n",
    " 'max_depth': 7}\n",
    " \n",
    " rmse - 257.63965\n",
    " {'n_estimators': 4830,\n",
    " 'learning_rate': 0.020684652733365408,\n",
    " 'reg_lambda': 6.281685725234899e-08,\n",
    " 'reg_alpha': 0.23257186932668625,\n",
    " 'subsample': 0.8271638666949983,\n",
    " 'colsample_bytree': 0.9227151487800732,\n",
    " 'max_depth': 7}\n",
    " \n",
    " rmse - 256.11658\n",
    " {'n_estimators': 2794,\n",
    " 'learning_rate': 0.020436805917267438,\n",
    " 'reg_lambda': 2.7212555280640823e-08,\n",
    " 'reg_alpha': 0.007221325684119264,\n",
    " 'subsample': 0.8306883017220584,\n",
    " 'colsample_bytree': 0.9258892579933528,\n",
    " 'max_depth': 7}\n",
    " \n",
    " rmse - 237.83017\n",
    " {'n_estimators': 3910,\n",
    " 'learning_rate': 0.038222719197485336,\n",
    " 'reg_lambda': 0.08992129176632746,\n",
    " 'reg_alpha': 97.4677840263797,\n",
    " 'subsample': 0.7958015466113378,\n",
    " 'colsample_bytree': 0.9337331481974602,\n",
    " 'max_depth': 6}\n",
    " \n",
    " rmse - 233.94916\n",
    " {'n_estimators': 1858,\n",
    " 'learning_rate': 0.027406462066360184,\n",
    " 'reg_lambda': 8.006824394058746e-05,\n",
    " 'reg_alpha': 2.1554443619678322e-05,\n",
    " 'subsample': 0.7226906014805654,\n",
    " 'colsample_bytree': 0.9470933940693741,\n",
    " 'max_depth': 6}\n",
    " \n",
    " rmse - 195.38582\n",
    " {'n_estimators': 3642,\n",
    " 'learning_rate': 0.024704224090189218,\n",
    " 'reg_lambda': 2.936733664947117,\n",
    " 'reg_alpha': 57.40870727344214,\n",
    " 'subsample': 0.6214411004415425,\n",
    " 'colsample_bytree': 0.6251175460789683,\n",
    " 'max_depth': 6}"
   ]
  },
  {
   "cell_type": "code",
   "execution_count": null,
   "id": "411b7849",
   "metadata": {},
   "outputs": [],
   "source": [
    "level0 = list()\n",
    "level0.append(('xgb', my_model_3))\n",
    "level0.append(('svr',sv))\n",
    "level0.append(('rf',rf2))\n",
    "\n",
    "# define meta learner model\n",
    "level1 = LinearRegression()\n",
    "# define the stacking ensemble\n",
    "model = StackingRegressor(estimators=level0, final_estimator=level1, cv=5)\n",
    "\n",
    "model.fit(X_train,y_train)\n",
    "predictions_ensemble = model.predict(X_valid)\n",
    "rmse_ensemble = np.sqrt(metrics.mean_squared_error(y_valid,predictions_ensemble))\n",
    "              \n",
    "         "
   ]
  },
  {
   "cell_type": "code",
   "execution_count": null,
   "id": "96edfd69",
   "metadata": {},
   "outputs": [],
   "source": [
    "print (rmse_ensemble)"
   ]
  },
  {
   "cell_type": "code",
   "execution_count": null,
   "id": "a8dce373",
   "metadata": {},
   "outputs": [],
   "source": [
    "plt.scatter(y_valid,predictions_ensemble)\n",
    "xpoints = ypoints = plt.xlim()\n",
    "plt.plot(xpoints, ypoints, 'k-', alpha=0.75, zorder=0)\n",
    "plt.xlabel('Actual')\n",
    "plt.ylabel('Pred')\n",
    "plt.show()"
   ]
  },
  {
   "cell_type": "markdown",
   "id": "6078598a",
   "metadata": {},
   "source": [
    "# Result Analysis"
   ]
  },
  {
   "cell_type": "code",
   "execution_count": null,
   "id": "85d26605",
   "metadata": {},
   "outputs": [],
   "source": [
    "result3a = X_valid\n",
    "result3a[\"mean_travel_time\"] = y_valid\n",
    "result3a[\"predicted\"] = predictions_ensemble\n",
    "result3a[\"diff\"] = abs(result3a[\"mean_travel_time\"] - result3a[\"predicted\"])\n",
    "result3a[\"diff_in_%\"] = ((abs(result3a[\"mean_travel_time\"] - result3a[\"predicted\"]))/result3a[\"mean_travel_time\"]) * 100\n",
    "result3a['sqrt_diff'] = (abs(result3a['mean_travel_time'] - result3a['predicted']))**(1/2)\n",
    "\n"
   ]
  },
  {
   "cell_type": "code",
   "execution_count": null,
   "id": "be2c3141",
   "metadata": {},
   "outputs": [],
   "source": [
    "result3a.sort_values('diff_in_%',inplace=True)\n",
    "result3a"
   ]
  },
  {
   "cell_type": "markdown",
   "id": "adadb5b0",
   "metadata": {},
   "source": [
    "# Final Model"
   ]
  },
  {
   "cell_type": "code",
   "execution_count": null,
   "id": "1cd03de4",
   "metadata": {},
   "outputs": [],
   "source": [
    "y = df.mean_travel_time\n",
    "features = ['sourceid','dstid','dow','area_reci_src','area_reci_dst','fastest_travel_time','maxspeed_traveltime','dist_geo_sqrt','oneway_length_sqrt','la_name_src','la_name_dst','pd_src','pd_dst','direction']\n",
    "X = df[features]\n",
    "\n",
    "Final_model = model\n",
    "Final_model.fit(X,y)\n",
    "              "
   ]
  },
  {
   "cell_type": "code",
   "execution_count": null,
   "id": "341b4c92",
   "metadata": {},
   "outputs": [],
   "source": [
    "testing1 = testing_data.merge(london, left_on = \"sourceid\", right_on = \"MOVEMENT_ID\", how = \"left\")\n",
    "testing2 = testing1.rename({\"geoeast\":\"geoeast_src\", \"geonorth\":\"geonorth_src\",\"popeast\":\"popeast_src\",\"popnorth\":\"popnorth_src\"}, axis = 1)\n",
    "testing3 = testing2.merge(london, left_on = \"dstid\", right_on = \"MOVEMENT_ID\", how = \"left\")\n",
    "testing4 = testing3.rename({\"geoeast\":\"geoeast_dst\", \"geonorth\":\"geonorth_dst\",\"popeast\":\"popeast_dst\",\"popnorth\":\"popnorth_dst\"}, axis = 1)\n",
    "features = [\"sourceid\",\"dstid\",\"dow\",\"la_name_x\",\"area_km2_x\",\"geoeast_src\",\"geonorth_src\",\"popeast_src\",\"popnorth_src\",\"la_name_y\",\"area_km2_y\",\"geoeast_dst\",\"geonorth_dst\",\"popeast_dst\",\"popnorth_dst\"]\n",
    "testing5 = testing4[features]\n",
    "Final_testing_data = testing5.rename({\"la_name_x\":\"la_name_src\",\"la_name_y\":\"la_name_dst\",\"area_km2_x\":\"area_src\",\"area_km2_y\":\"area_dst\"},axis=1)\n",
    "Final_testing_data = Final_testing_data.merge(pd, left_on = \"la_name_src\", right_on = \"la_name\", how = \"left\")\n",
    "Final_testing_data = Final_testing_data.merge(pd, left_on = \"la_name_dst\", right_on = \"la_name\", how = \"left\")\n",
    "Final_testing_data = Final_testing_data.rename({'population_density_x':'pd_src','population_density_y':'pd_dst'},axis =1)\n",
    "Final_testing_data = Final_testing_data.drop(['la_name_x','la_name_y'], axis=1)\n",
    "Final_testing_data"
   ]
  },
  {
   "cell_type": "code",
   "execution_count": null,
   "id": "0ff265d3",
   "metadata": {},
   "outputs": [],
   "source": [
    "Final_testing_data['dist_geo'] = np.linalg.norm(Final_testing_data.loc[:, ['geoeast_src','geonorth_src']].values - Final_testing_data.loc[:, ['geoeast_dst','geonorth_dst']], axis=1)\n",
    "Final_testing_data['dist_pop'] = np.linalg.norm(Final_testing_data.loc[:, ['popeast_src','popnorth_src']].values - Final_testing_data.loc[:, ['popeast_dst','popnorth_dst']], axis=1)\n",
    "xDiff = Final_testing_data.loc[:, 'geonorth_dst'].values - Final_testing_data.loc[:, 'geonorth_src'].values\n",
    "yDiff = Final_testing_data.loc[:, 'geoeast_dst'].values - Final_testing_data.loc[:, 'geoeast_src'].values\n",
    "Final_testing_data.loc[:,'direction'] = np.degrees(np.arctan2(yDiff,xDiff)) \n",
    "Final_testing_data['direction'] = Final_testing_data['direction'].apply(np.ceil)"
   ]
  },
  {
   "cell_type": "code",
   "execution_count": null,
   "id": "07c1abf2",
   "metadata": {},
   "outputs": [],
   "source": [
    "ordinal_encoder = OrdinalEncoder()\n",
    "object_cols = [\"la_name_src\",\"la_name_dst\"]\n",
    "Final_testing_data[object_cols] = ordinal_encoder.fit_transform(Final_testing_data[object_cols])\n",
    "Final_testing_data"
   ]
  },
  {
   "cell_type": "code",
   "execution_count": null,
   "id": "caca2d59",
   "metadata": {},
   "outputs": [],
   "source": [
    "Final_testing_data = Final_testing_data.drop(['geoeast_src','geonorth_src','popeast_src','popnorth_src','geoeast_dst','geonorth_dst','popeast_dst','popnorth_dst'], axis=1)"
   ]
  },
  {
   "cell_type": "code",
   "execution_count": null,
   "id": "620e51d5",
   "metadata": {},
   "outputs": [],
   "source": [
    "Final_testing_data['dist_geo_sqrt'] =  np.sqrt(Final_testing_data['dist_geo'])\n",
    "Final_testing_data['dist_pop_sqrt'] =  np.sqrt(Final_testing_data['dist_pop'])\n",
    "Final_testing_data['area_reci_src'] =  1/Final_testing_data.area_src\n",
    "Final_testing_data['area_reci_dst'] =  1/Final_testing_data.area_dst"
   ]
  },
  {
   "cell_type": "code",
   "execution_count": null,
   "id": "6c5c2a9c",
   "metadata": {},
   "outputs": [],
   "source": [
    "Final_testing_data"
   ]
  },
  {
   "cell_type": "code",
   "execution_count": null,
   "id": "62844fc7",
   "metadata": {},
   "outputs": [],
   "source": [
    "import pandas as pd\n",
    "test_route = pd.read_csv('C:/Users/lowmi/Downloads/Compressed/MEC_dataset/testing_route.csv')\n",
    "test_route"
   ]
  },
  {
   "cell_type": "code",
   "execution_count": null,
   "id": "8c9f2685",
   "metadata": {},
   "outputs": [],
   "source": [
    "Final_testing_data = pd.concat([Final_testing_data,test_route],axis=1)\n",
    "Final_testing_data"
   ]
  },
  {
   "cell_type": "code",
   "execution_count": null,
   "id": "16ec7cd4",
   "metadata": {},
   "outputs": [],
   "source": [
    "Final_testing_data['road_distance_by_traveltime_sqrt'] =  np.sqrt(Final_testing_data['road_distance_by_traveltime'])\n",
    "Final_testing_data['oneway_length_sqrt'] =  np.sqrt(Final_testing_data['oneway_length'])\n",
    "Final_testing_data = Final_testing_data.rename({'fastest_traveltime':'fastest_travel_time'},axis=1)\n",
    "Final_testing_data"
   ]
  },
  {
   "cell_type": "code",
   "execution_count": null,
   "id": "3a7e77fd",
   "metadata": {},
   "outputs": [],
   "source": [
    "features = ['sourceid','dstid','dow','area_reci_src','area_reci_dst','fastest_travel_time','maxspeed_traveltime','dist_geo_sqrt','oneway_length_sqrt','la_name_src','la_name_dst','pd_src','pd_dst','direction']\n",
    "test_X  = Final_testing_data[features]"
   ]
  },
  {
   "cell_type": "code",
   "execution_count": null,
   "id": "c5073e57",
   "metadata": {},
   "outputs": [],
   "source": [
    "test_preds = Final_model.predict(test_X)"
   ]
  },
  {
   "cell_type": "code",
   "execution_count": null,
   "id": "0d306a5b",
   "metadata": {},
   "outputs": [],
   "source": [
    "test_preds"
   ]
  },
  {
   "cell_type": "code",
   "execution_count": null,
   "id": "7e01987f",
   "metadata": {},
   "outputs": [],
   "source": [
    "output = pd.DataFrame({'sourceid': testing_data.sourceid,\n",
    "                       'dstid': testing_data.dstid,\n",
    "                       'dow':testing_data.dow,\n",
    "                       'predicted_mean_travel_time':test_preds})\n",
    "output.to_csv('submission8.csv', index=False)"
   ]
  },
  {
   "cell_type": "code",
   "execution_count": null,
   "id": "cead1ff3",
   "metadata": {},
   "outputs": [],
   "source": [
    "output"
   ]
  }
 ],
 "metadata": {
  "kernelspec": {
   "display_name": "Python 3 (ipykernel)",
   "language": "python",
   "name": "python3"
  },
  "language_info": {
   "codemirror_mode": {
    "name": "ipython",
    "version": 3
   },
   "file_extension": ".py",
   "mimetype": "text/x-python",
   "name": "python",
   "nbconvert_exporter": "python",
   "pygments_lexer": "ipython3",
   "version": "3.9.7"
  }
 },
 "nbformat": 4,
 "nbformat_minor": 5
}
