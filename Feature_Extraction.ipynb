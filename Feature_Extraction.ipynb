{
 "cells": [
  {
   "cell_type": "markdown",
   "metadata": {
    "id": "RJ7hQDUD7q_V"
   },
   "source": [
    "# **Import library**"
   ]
  },
  {
   "cell_type": "code",
   "execution_count": 1,
   "metadata": {
    "id": "MgrwmtZkeHoo"
   },
   "outputs": [],
   "source": [
    "import geopandas as gpd\n",
    "import pandas as pd\n",
    "import osmnx as ox\n",
    "import networkx as nx\n",
    "import matplotlib.pyplot as plt\n",
    "import numpy as np\n",
    "from sklearn.preprocessing import OrdinalEncoder\n",
    "import openpyxl\n",
    "\n",
    "%matplotlib inline\n",
    "# plt.style.use(\"seaborn\")\n",
    "plt.rcParams[\"figure.figsize\"] = (16, 8)"
   ]
  },
  {
   "cell_type": "code",
   "execution_count": 2,
   "metadata": {},
   "outputs": [],
   "source": [
    "import warnings\n",
    "warnings.simplefilter(\"ignore\")"
   ]
  },
  {
   "cell_type": "markdown",
   "metadata": {
    "id": "UPBWW0UL7vFA"
   },
   "source": [
    "# ***Data Preparation***"
   ]
  },
  {
   "cell_type": "markdown",
   "metadata": {
    "id": "P8njNRWf9Cau"
   },
   "source": [
    "## **CSV Handling**"
   ]
  },
  {
   "cell_type": "code",
   "execution_count": 3,
   "metadata": {
    "colab": {
     "base_uri": "https://localhost:8080/"
    },
    "id": "bpjHlfeNeLjY",
    "outputId": "0a6734ed-f7a0-4ed2-f600-2bf1121e9a8d"
   },
   "outputs": [
    {
     "data": {
      "text/html": [
       "<div>\n",
       "<style scoped>\n",
       "    .dataframe tbody tr th:only-of-type {\n",
       "        vertical-align: middle;\n",
       "    }\n",
       "\n",
       "    .dataframe tbody tr th {\n",
       "        vertical-align: top;\n",
       "    }\n",
       "\n",
       "    .dataframe thead th {\n",
       "        text-align: right;\n",
       "    }\n",
       "</style>\n",
       "<table border=\"1\" class=\"dataframe\">\n",
       "  <thead>\n",
       "    <tr style=\"text-align: right;\">\n",
       "      <th></th>\n",
       "      <th>sourceid</th>\n",
       "      <th>dstid</th>\n",
       "      <th>dow</th>\n",
       "      <th>mean_travel_time</th>\n",
       "    </tr>\n",
       "  </thead>\n",
       "  <tbody>\n",
       "    <tr>\n",
       "      <th>0</th>\n",
       "      <td>10</td>\n",
       "      <td>241</td>\n",
       "      <td>3</td>\n",
       "      <td>2334.43</td>\n",
       "    </tr>\n",
       "    <tr>\n",
       "      <th>1</th>\n",
       "      <td>10</td>\n",
       "      <td>612</td>\n",
       "      <td>5</td>\n",
       "      <td>1529.83</td>\n",
       "    </tr>\n",
       "    <tr>\n",
       "      <th>2</th>\n",
       "      <td>10</td>\n",
       "      <td>905</td>\n",
       "      <td>4</td>\n",
       "      <td>1390.04</td>\n",
       "    </tr>\n",
       "    <tr>\n",
       "      <th>3</th>\n",
       "      <td>10</td>\n",
       "      <td>407</td>\n",
       "      <td>7</td>\n",
       "      <td>157.91</td>\n",
       "    </tr>\n",
       "    <tr>\n",
       "      <th>4</th>\n",
       "      <td>10</td>\n",
       "      <td>603</td>\n",
       "      <td>4</td>\n",
       "      <td>1781.67</td>\n",
       "    </tr>\n",
       "  </tbody>\n",
       "</table>\n",
       "</div>"
      ],
      "text/plain": [
       "   sourceid  dstid  dow  mean_travel_time\n",
       "0        10    241    3           2334.43\n",
       "1        10    612    5           1529.83\n",
       "2        10    905    4           1390.04\n",
       "3        10    407    7            157.91\n",
       "4        10    603    4           1781.67"
      ]
     },
     "execution_count": 3,
     "metadata": {},
     "output_type": "execute_result"
    }
   ],
   "source": [
    "df = pd.read_excel(\"../MEC_dataset/training_WeeklyAggregate.xlsx\")\n",
    "df.head()"
   ]
  },
  {
   "cell_type": "code",
   "execution_count": 4,
   "metadata": {
    "id": "h9aC3EAYAA6P"
   },
   "outputs": [
    {
     "data": {
      "text/html": [
       "<div>\n",
       "<style scoped>\n",
       "    .dataframe tbody tr th:only-of-type {\n",
       "        vertical-align: middle;\n",
       "    }\n",
       "\n",
       "    .dataframe tbody tr th {\n",
       "        vertical-align: top;\n",
       "    }\n",
       "\n",
       "    .dataframe thead th {\n",
       "        text-align: right;\n",
       "    }\n",
       "</style>\n",
       "<table border=\"1\" class=\"dataframe\">\n",
       "  <thead>\n",
       "    <tr style=\"text-align: right;\">\n",
       "      <th></th>\n",
       "      <th>la_name</th>\n",
       "      <th>population_density</th>\n",
       "    </tr>\n",
       "  </thead>\n",
       "  <tbody>\n",
       "    <tr>\n",
       "      <th>0</th>\n",
       "      <td>Hillingdon</td>\n",
       "      <td>2671</td>\n",
       "    </tr>\n",
       "    <tr>\n",
       "      <th>1</th>\n",
       "      <td>Newham</td>\n",
       "      <td>9808</td>\n",
       "    </tr>\n",
       "    <tr>\n",
       "      <th>2</th>\n",
       "      <td>Lambeth</td>\n",
       "      <td>11998</td>\n",
       "    </tr>\n",
       "    <tr>\n",
       "      <th>3</th>\n",
       "      <td>Richmond upon Thames</td>\n",
       "      <td>3451</td>\n",
       "    </tr>\n",
       "    <tr>\n",
       "      <th>4</th>\n",
       "      <td>Southwark</td>\n",
       "      <td>11091</td>\n",
       "    </tr>\n",
       "  </tbody>\n",
       "</table>\n",
       "</div>"
      ],
      "text/plain": [
       "                la_name  population_density\n",
       "0            Hillingdon                2671\n",
       "1                Newham                9808\n",
       "2               Lambeth               11998\n",
       "3  Richmond upon Thames                3451\n",
       "4             Southwark               11091"
      ]
     },
     "execution_count": 4,
     "metadata": {},
     "output_type": "execute_result"
    }
   ],
   "source": [
    "pop = pd.read_excel(\"C:/Users/lowmi/Downloads/Compressed/MEC_dataset/population_density.xlsx\")\n",
    "pop.head()"
   ]
  },
  {
   "cell_type": "code",
   "execution_count": 5,
   "metadata": {
    "colab": {
     "base_uri": "https://localhost:8080/"
    },
    "id": "vfIHlY4V0JFR",
    "outputId": "9cd93e14-c2d5-4a25-bff5-1d4dc3b0d391"
   },
   "outputs": [
    {
     "data": {
      "text/plain": [
       "Index(['sourceid', 'dstid', 'dow', 'mean_travel_time'], dtype='object')"
      ]
     },
     "execution_count": 5,
     "metadata": {},
     "output_type": "execute_result"
    }
   ],
   "source": [
    "df.columns"
   ]
  },
  {
   "cell_type": "code",
   "execution_count": 6,
   "metadata": {
    "colab": {
     "base_uri": "https://localhost:8080/"
    },
    "id": "othpL-XJeMOA",
    "outputId": "10c8120a-7f76-4291-b40c-96c36e7dcbec"
   },
   "outputs": [
    {
     "name": "stdout",
     "output_type": "stream",
     "text": [
      "<class 'pandas.core.frame.DataFrame'>\n",
      "RangeIndex: 9830 entries, 0 to 9829\n",
      "Data columns (total 4 columns):\n",
      " #   Column            Non-Null Count  Dtype  \n",
      "---  ------            --------------  -----  \n",
      " 0   sourceid          9830 non-null   int64  \n",
      " 1   dstid             9830 non-null   int64  \n",
      " 2   dow               9830 non-null   int64  \n",
      " 3   mean_travel_time  9830 non-null   float64\n",
      "dtypes: float64(1), int64(3)\n",
      "memory usage: 307.3 KB\n"
     ]
    }
   ],
   "source": [
    "df.info()"
   ]
  },
  {
   "cell_type": "code",
   "execution_count": 7,
   "metadata": {
    "colab": {
     "base_uri": "https://localhost:8080/"
    },
    "id": "R_RrS4NieOim",
    "outputId": "cf2d5a00-f43b-4908-f0d3-2189562ab379"
   },
   "outputs": [
    {
     "data": {
      "text/html": [
       "<div>\n",
       "<style scoped>\n",
       "    .dataframe tbody tr th:only-of-type {\n",
       "        vertical-align: middle;\n",
       "    }\n",
       "\n",
       "    .dataframe tbody tr th {\n",
       "        vertical-align: top;\n",
       "    }\n",
       "\n",
       "    .dataframe thead th {\n",
       "        text-align: right;\n",
       "    }\n",
       "</style>\n",
       "<table border=\"1\" class=\"dataframe\">\n",
       "  <thead>\n",
       "    <tr style=\"text-align: right;\">\n",
       "      <th></th>\n",
       "      <th>sourceid</th>\n",
       "      <th>dstid</th>\n",
       "      <th>dow</th>\n",
       "      <th>mean_travel_time</th>\n",
       "    </tr>\n",
       "  </thead>\n",
       "  <tbody>\n",
       "    <tr>\n",
       "      <th>count</th>\n",
       "      <td>9830.000000</td>\n",
       "      <td>9830.000000</td>\n",
       "      <td>9830.000000</td>\n",
       "      <td>9830.000000</td>\n",
       "    </tr>\n",
       "    <tr>\n",
       "      <th>mean</th>\n",
       "      <td>491.000000</td>\n",
       "      <td>490.849542</td>\n",
       "      <td>4.112818</td>\n",
       "      <td>1621.815974</td>\n",
       "    </tr>\n",
       "    <tr>\n",
       "      <th>std</th>\n",
       "      <td>283.781945</td>\n",
       "      <td>285.434568</td>\n",
       "      <td>1.999946</td>\n",
       "      <td>747.806487</td>\n",
       "    </tr>\n",
       "    <tr>\n",
       "      <th>min</th>\n",
       "      <td>0.000000</td>\n",
       "      <td>0.000000</td>\n",
       "      <td>1.000000</td>\n",
       "      <td>86.420000</td>\n",
       "    </tr>\n",
       "    <tr>\n",
       "      <th>25%</th>\n",
       "      <td>245.000000</td>\n",
       "      <td>248.250000</td>\n",
       "      <td>2.000000</td>\n",
       "      <td>1064.592500</td>\n",
       "    </tr>\n",
       "    <tr>\n",
       "      <th>50%</th>\n",
       "      <td>491.000000</td>\n",
       "      <td>479.000000</td>\n",
       "      <td>4.000000</td>\n",
       "      <td>1570.710000</td>\n",
       "    </tr>\n",
       "    <tr>\n",
       "      <th>75%</th>\n",
       "      <td>737.000000</td>\n",
       "      <td>750.000000</td>\n",
       "      <td>6.000000</td>\n",
       "      <td>2122.142500</td>\n",
       "    </tr>\n",
       "    <tr>\n",
       "      <th>max</th>\n",
       "      <td>982.000000</td>\n",
       "      <td>982.000000</td>\n",
       "      <td>7.000000</td>\n",
       "      <td>4789.000000</td>\n",
       "    </tr>\n",
       "  </tbody>\n",
       "</table>\n",
       "</div>"
      ],
      "text/plain": [
       "          sourceid        dstid          dow  mean_travel_time\n",
       "count  9830.000000  9830.000000  9830.000000       9830.000000\n",
       "mean    491.000000   490.849542     4.112818       1621.815974\n",
       "std     283.781945   285.434568     1.999946        747.806487\n",
       "min       0.000000     0.000000     1.000000         86.420000\n",
       "25%     245.000000   248.250000     2.000000       1064.592500\n",
       "50%     491.000000   479.000000     4.000000       1570.710000\n",
       "75%     737.000000   750.000000     6.000000       2122.142500\n",
       "max     982.000000   982.000000     7.000000       4789.000000"
      ]
     },
     "execution_count": 7,
     "metadata": {},
     "output_type": "execute_result"
    }
   ],
   "source": [
    "df.describe()"
   ]
  },
  {
   "cell_type": "code",
   "execution_count": 8,
   "metadata": {
    "colab": {
     "base_uri": "https://localhost:8080/"
    },
    "id": "GtxNmteCeQG1",
    "outputId": "9dea1ea2-8f8a-4291-d968-f7b3b90d80ad"
   },
   "outputs": [
    {
     "data": {
      "text/plain": [
       "sourceid             983\n",
       "dstid                980\n",
       "dow                    7\n",
       "mean_travel_time    9638\n",
       "dtype: int64"
      ]
     },
     "execution_count": 8,
     "metadata": {},
     "output_type": "execute_result"
    }
   ],
   "source": [
    "df.nunique()"
   ]
  },
  {
   "cell_type": "markdown",
   "metadata": {
    "id": "Vt7F_-iQ9HEN"
   },
   "source": [
    "## **GeoJson Handling**"
   ]
  },
  {
   "cell_type": "code",
   "execution_count": 9,
   "metadata": {
    "id": "VZHEELVoeSFu"
   },
   "outputs": [],
   "source": [
    "london = gpd.read_file(\"C:/Users/lowmi/Downloads/Compressed/MEC_dataset/london.json\")"
   ]
  },
  {
   "cell_type": "code",
   "execution_count": 10,
   "metadata": {
    "colab": {
     "base_uri": "https://localhost:8080/"
    },
    "id": "wDcZSVm-eTwz",
    "outputId": "8679b24c-b7a6-40b5-83fb-6d722613b0e0"
   },
   "outputs": [
    {
     "data": {
      "text/html": [
       "<div>\n",
       "<style scoped>\n",
       "    .dataframe tbody tr th:only-of-type {\n",
       "        vertical-align: middle;\n",
       "    }\n",
       "\n",
       "    .dataframe tbody tr th {\n",
       "        vertical-align: top;\n",
       "    }\n",
       "\n",
       "    .dataframe thead th {\n",
       "        text-align: right;\n",
       "    }\n",
       "</style>\n",
       "<table border=\"1\" class=\"dataframe\">\n",
       "  <thead>\n",
       "    <tr style=\"text-align: right;\">\n",
       "      <th></th>\n",
       "      <th>msoa_code</th>\n",
       "      <th>msoa_name</th>\n",
       "      <th>la_code</th>\n",
       "      <th>la_name</th>\n",
       "      <th>geoeast</th>\n",
       "      <th>geonorth</th>\n",
       "      <th>popeast</th>\n",
       "      <th>popnorth</th>\n",
       "      <th>area_km2</th>\n",
       "      <th>MOVEMENT_ID</th>\n",
       "      <th>DISPLAY_NAME</th>\n",
       "      <th>geometry</th>\n",
       "    </tr>\n",
       "  </thead>\n",
       "  <tbody>\n",
       "    <tr>\n",
       "      <th>0</th>\n",
       "      <td>E02000508</td>\n",
       "      <td>Hillingdon 015</td>\n",
       "      <td>00AS</td>\n",
       "      <td>Hillingdon</td>\n",
       "      <td>506163</td>\n",
       "      <td>183536</td>\n",
       "      <td>505978</td>\n",
       "      <td>183811</td>\n",
       "      <td>2.74660</td>\n",
       "      <td>0</td>\n",
       "      <td>Hillingdon, 00AS (0)</td>\n",
       "      <td>MULTIPOLYGON (((-0.47794 51.55485, -0.47665 51...</td>\n",
       "    </tr>\n",
       "    <tr>\n",
       "      <th>1</th>\n",
       "      <td>E02000716</td>\n",
       "      <td>Newham 003</td>\n",
       "      <td>00BB</td>\n",
       "      <td>Newham</td>\n",
       "      <td>541978</td>\n",
       "      <td>186009</td>\n",
       "      <td>541870</td>\n",
       "      <td>185568</td>\n",
       "      <td>1.56517</td>\n",
       "      <td>1</td>\n",
       "      <td>Newham, 00BB (1)</td>\n",
       "      <td>MULTIPOLYGON (((0.05255 51.56171, 0.05310 51.5...</td>\n",
       "    </tr>\n",
       "    <tr>\n",
       "      <th>2</th>\n",
       "      <td>E02000747</td>\n",
       "      <td>Newham 034</td>\n",
       "      <td>00BB</td>\n",
       "      <td>Newham</td>\n",
       "      <td>539578</td>\n",
       "      <td>181317</td>\n",
       "      <td>539891</td>\n",
       "      <td>181438</td>\n",
       "      <td>2.08241</td>\n",
       "      <td>2</td>\n",
       "      <td>Newham, 00BB (2)</td>\n",
       "      <td>MULTIPOLYGON (((0.01001 51.52181, 0.01003 51.5...</td>\n",
       "    </tr>\n",
       "    <tr>\n",
       "      <th>3</th>\n",
       "      <td>E02000748</td>\n",
       "      <td>Newham 035</td>\n",
       "      <td>00BB</td>\n",
       "      <td>Newham</td>\n",
       "      <td>542500</td>\n",
       "      <td>181152</td>\n",
       "      <td>542439</td>\n",
       "      <td>181339</td>\n",
       "      <td>1.33175</td>\n",
       "      <td>3</td>\n",
       "      <td>Newham, 00BB (3)</td>\n",
       "      <td>MULTIPOLYGON (((0.05392 51.51611, 0.05174 51.5...</td>\n",
       "    </tr>\n",
       "    <tr>\n",
       "      <th>4</th>\n",
       "      <td>E02000749</td>\n",
       "      <td>Newham 036</td>\n",
       "      <td>00BB</td>\n",
       "      <td>Newham</td>\n",
       "      <td>541047</td>\n",
       "      <td>181103</td>\n",
       "      <td>540847</td>\n",
       "      <td>181294</td>\n",
       "      <td>1.41902</td>\n",
       "      <td>4</td>\n",
       "      <td>Newham, 00BB (4)</td>\n",
       "      <td>MULTIPOLYGON (((0.03241 51.51704, 0.03179 51.5...</td>\n",
       "    </tr>\n",
       "  </tbody>\n",
       "</table>\n",
       "</div>"
      ],
      "text/plain": [
       "   msoa_code       msoa_name la_code     la_name  geoeast  geonorth  popeast  \\\n",
       "0  E02000508  Hillingdon 015    00AS  Hillingdon   506163    183536   505978   \n",
       "1  E02000716      Newham 003    00BB      Newham   541978    186009   541870   \n",
       "2  E02000747      Newham 034    00BB      Newham   539578    181317   539891   \n",
       "3  E02000748      Newham 035    00BB      Newham   542500    181152   542439   \n",
       "4  E02000749      Newham 036    00BB      Newham   541047    181103   540847   \n",
       "\n",
       "   popnorth  area_km2 MOVEMENT_ID          DISPLAY_NAME  \\\n",
       "0    183811   2.74660           0  Hillingdon, 00AS (0)   \n",
       "1    185568   1.56517           1      Newham, 00BB (1)   \n",
       "2    181438   2.08241           2      Newham, 00BB (2)   \n",
       "3    181339   1.33175           3      Newham, 00BB (3)   \n",
       "4    181294   1.41902           4      Newham, 00BB (4)   \n",
       "\n",
       "                                            geometry  \n",
       "0  MULTIPOLYGON (((-0.47794 51.55485, -0.47665 51...  \n",
       "1  MULTIPOLYGON (((0.05255 51.56171, 0.05310 51.5...  \n",
       "2  MULTIPOLYGON (((0.01001 51.52181, 0.01003 51.5...  \n",
       "3  MULTIPOLYGON (((0.05392 51.51611, 0.05174 51.5...  \n",
       "4  MULTIPOLYGON (((0.03241 51.51704, 0.03179 51.5...  "
      ]
     },
     "execution_count": 10,
     "metadata": {},
     "output_type": "execute_result"
    }
   ],
   "source": [
    "london.head()"
   ]
  },
  {
   "cell_type": "code",
   "execution_count": 11,
   "metadata": {
    "colab": {
     "base_uri": "https://localhost:8080/"
    },
    "id": "OgXDYHM3eVYN",
    "outputId": "6589b744-7fcb-4b03-b150-a48db0a1bc69"
   },
   "outputs": [
    {
     "data": {
      "text/plain": [
       "msoa_code       983\n",
       "msoa_name       983\n",
       "la_code          33\n",
       "la_name          33\n",
       "geoeast         970\n",
       "geonorth        971\n",
       "popeast         974\n",
       "popnorth        970\n",
       "area_km2        982\n",
       "MOVEMENT_ID     983\n",
       "DISPLAY_NAME    983\n",
       "geometry        983\n",
       "dtype: int64"
      ]
     },
     "execution_count": 11,
     "metadata": {},
     "output_type": "execute_result"
    }
   ],
   "source": [
    "london.nunique()"
   ]
  },
  {
   "cell_type": "code",
   "execution_count": 12,
   "metadata": {
    "colab": {
     "base_uri": "https://localhost:8080/"
    },
    "id": "rAyOZtc-eYvq",
    "outputId": "d213c521-082d-49a6-c874-f1f1560dce88"
   },
   "outputs": [
    {
     "data": {
      "text/plain": [
       "<Geographic 2D CRS: EPSG:4326>\n",
       "Name: WGS 84\n",
       "Axis Info [ellipsoidal]:\n",
       "- Lat[north]: Geodetic latitude (degree)\n",
       "- Lon[east]: Geodetic longitude (degree)\n",
       "Area of Use:\n",
       "- name: World.\n",
       "- bounds: (-180.0, -90.0, 180.0, 90.0)\n",
       "Datum: World Geodetic System 1984 ensemble\n",
       "- Ellipsoid: WGS 84\n",
       "- Prime Meridian: Greenwich"
      ]
     },
     "execution_count": 12,
     "metadata": {},
     "output_type": "execute_result"
    }
   ],
   "source": [
    "london.crs\n",
    "#\"EPSG: 27700\" Projected"
   ]
  },
  {
   "cell_type": "code",
   "execution_count": 13,
   "metadata": {
    "colab": {
     "base_uri": "https://localhost:8080/"
    },
    "id": "0hhCsoARecM3",
    "outputId": "cf7a9d86-38b3-4b49-edff-4299bf600961"
   },
   "outputs": [
    {
     "name": "stdout",
     "output_type": "stream",
     "text": [
      "<class 'geopandas.geodataframe.GeoDataFrame'>\n",
      "RangeIndex: 983 entries, 0 to 982\n",
      "Data columns (total 12 columns):\n",
      " #   Column        Non-Null Count  Dtype   \n",
      "---  ------        --------------  -----   \n",
      " 0   msoa_code     983 non-null    object  \n",
      " 1   msoa_name     983 non-null    object  \n",
      " 2   la_code       983 non-null    object  \n",
      " 3   la_name       983 non-null    object  \n",
      " 4   geoeast       983 non-null    int64   \n",
      " 5   geonorth      983 non-null    int64   \n",
      " 6   popeast       983 non-null    int64   \n",
      " 7   popnorth      983 non-null    int64   \n",
      " 8   area_km2      983 non-null    float64 \n",
      " 9   MOVEMENT_ID   983 non-null    object  \n",
      " 10  DISPLAY_NAME  983 non-null    object  \n",
      " 11  geometry      983 non-null    geometry\n",
      "dtypes: float64(1), geometry(1), int64(4), object(6)\n",
      "memory usage: 92.3+ KB\n"
     ]
    }
   ],
   "source": [
    "london.info()"
   ]
  },
  {
   "cell_type": "code",
   "execution_count": 14,
   "metadata": {
    "colab": {
     "base_uri": "https://localhost:8080/"
    },
    "id": "_Vzg7jvYeazF",
    "outputId": "7809c658-3a64-4b50-dd34-8894fea7dde1"
   },
   "outputs": [],
   "source": [
    "london[\"MOVEMENT_ID\"] = london[\"MOVEMENT_ID\"].astype(\"int64\")\n",
    "london[\"x\"] = london.centroid.x\n",
    "london[\"y\"] = london.centroid.y"
   ]
  },
  {
   "cell_type": "code",
   "execution_count": 15,
   "metadata": {
    "colab": {
     "base_uri": "https://localhost:8080/"
    },
    "id": "YW7PfdWnAm-h",
    "outputId": "7266c6e8-940a-41fd-f0f3-381bcb7abd7f"
   },
   "outputs": [
    {
     "data": {
      "text/html": [
       "<div>\n",
       "<style scoped>\n",
       "    .dataframe tbody tr th:only-of-type {\n",
       "        vertical-align: middle;\n",
       "    }\n",
       "\n",
       "    .dataframe tbody tr th {\n",
       "        vertical-align: top;\n",
       "    }\n",
       "\n",
       "    .dataframe thead th {\n",
       "        text-align: right;\n",
       "    }\n",
       "</style>\n",
       "<table border=\"1\" class=\"dataframe\">\n",
       "  <thead>\n",
       "    <tr style=\"text-align: right;\">\n",
       "      <th></th>\n",
       "      <th>msoa_code</th>\n",
       "      <th>msoa_name</th>\n",
       "      <th>la_code</th>\n",
       "      <th>la_name</th>\n",
       "      <th>geoeast</th>\n",
       "      <th>geonorth</th>\n",
       "      <th>popeast</th>\n",
       "      <th>popnorth</th>\n",
       "      <th>area_km2</th>\n",
       "      <th>MOVEMENT_ID</th>\n",
       "      <th>DISPLAY_NAME</th>\n",
       "      <th>geometry</th>\n",
       "      <th>x</th>\n",
       "      <th>y</th>\n",
       "    </tr>\n",
       "  </thead>\n",
       "  <tbody>\n",
       "    <tr>\n",
       "      <th>0</th>\n",
       "      <td>E02000508</td>\n",
       "      <td>Hillingdon 015</td>\n",
       "      <td>00AS</td>\n",
       "      <td>Hillingdon</td>\n",
       "      <td>506163</td>\n",
       "      <td>183536</td>\n",
       "      <td>505978</td>\n",
       "      <td>183811</td>\n",
       "      <td>2.74660</td>\n",
       "      <td>0</td>\n",
       "      <td>Hillingdon, 00AS (0)</td>\n",
       "      <td>MULTIPOLYGON (((-0.47794 51.55485, -0.47665 51...</td>\n",
       "      <td>-0.470593</td>\n",
       "      <td>51.540762</td>\n",
       "    </tr>\n",
       "    <tr>\n",
       "      <th>1</th>\n",
       "      <td>E02000716</td>\n",
       "      <td>Newham 003</td>\n",
       "      <td>00BB</td>\n",
       "      <td>Newham</td>\n",
       "      <td>541978</td>\n",
       "      <td>186009</td>\n",
       "      <td>541870</td>\n",
       "      <td>185568</td>\n",
       "      <td>1.56517</td>\n",
       "      <td>1</td>\n",
       "      <td>Newham, 00BB (1)</td>\n",
       "      <td>MULTIPOLYGON (((0.05255 51.56171, 0.05310 51.5...</td>\n",
       "      <td>0.046567</td>\n",
       "      <td>51.555122</td>\n",
       "    </tr>\n",
       "    <tr>\n",
       "      <th>2</th>\n",
       "      <td>E02000747</td>\n",
       "      <td>Newham 034</td>\n",
       "      <td>00BB</td>\n",
       "      <td>Newham</td>\n",
       "      <td>539578</td>\n",
       "      <td>181317</td>\n",
       "      <td>539891</td>\n",
       "      <td>181438</td>\n",
       "      <td>2.08241</td>\n",
       "      <td>2</td>\n",
       "      <td>Newham, 00BB (2)</td>\n",
       "      <td>MULTIPOLYGON (((0.01001 51.52181, 0.01003 51.5...</td>\n",
       "      <td>0.010071</td>\n",
       "      <td>51.513538</td>\n",
       "    </tr>\n",
       "    <tr>\n",
       "      <th>3</th>\n",
       "      <td>E02000748</td>\n",
       "      <td>Newham 035</td>\n",
       "      <td>00BB</td>\n",
       "      <td>Newham</td>\n",
       "      <td>542500</td>\n",
       "      <td>181152</td>\n",
       "      <td>542439</td>\n",
       "      <td>181339</td>\n",
       "      <td>1.33175</td>\n",
       "      <td>3</td>\n",
       "      <td>Newham, 00BB (3)</td>\n",
       "      <td>MULTIPOLYGON (((0.05392 51.51611, 0.05174 51.5...</td>\n",
       "      <td>0.052078</td>\n",
       "      <td>51.511347</td>\n",
       "    </tr>\n",
       "    <tr>\n",
       "      <th>4</th>\n",
       "      <td>E02000749</td>\n",
       "      <td>Newham 036</td>\n",
       "      <td>00BB</td>\n",
       "      <td>Newham</td>\n",
       "      <td>541047</td>\n",
       "      <td>181103</td>\n",
       "      <td>540847</td>\n",
       "      <td>181294</td>\n",
       "      <td>1.41902</td>\n",
       "      <td>4</td>\n",
       "      <td>Newham, 00BB (4)</td>\n",
       "      <td>MULTIPOLYGON (((0.03241 51.51704, 0.03179 51.5...</td>\n",
       "      <td>0.031180</td>\n",
       "      <td>51.511230</td>\n",
       "    </tr>\n",
       "  </tbody>\n",
       "</table>\n",
       "</div>"
      ],
      "text/plain": [
       "   msoa_code       msoa_name la_code     la_name  geoeast  geonorth  popeast  \\\n",
       "0  E02000508  Hillingdon 015    00AS  Hillingdon   506163    183536   505978   \n",
       "1  E02000716      Newham 003    00BB      Newham   541978    186009   541870   \n",
       "2  E02000747      Newham 034    00BB      Newham   539578    181317   539891   \n",
       "3  E02000748      Newham 035    00BB      Newham   542500    181152   542439   \n",
       "4  E02000749      Newham 036    00BB      Newham   541047    181103   540847   \n",
       "\n",
       "   popnorth  area_km2  MOVEMENT_ID          DISPLAY_NAME  \\\n",
       "0    183811   2.74660            0  Hillingdon, 00AS (0)   \n",
       "1    185568   1.56517            1      Newham, 00BB (1)   \n",
       "2    181438   2.08241            2      Newham, 00BB (2)   \n",
       "3    181339   1.33175            3      Newham, 00BB (3)   \n",
       "4    181294   1.41902            4      Newham, 00BB (4)   \n",
       "\n",
       "                                            geometry         x          y  \n",
       "0  MULTIPOLYGON (((-0.47794 51.55485, -0.47665 51... -0.470593  51.540762  \n",
       "1  MULTIPOLYGON (((0.05255 51.56171, 0.05310 51.5...  0.046567  51.555122  \n",
       "2  MULTIPOLYGON (((0.01001 51.52181, 0.01003 51.5...  0.010071  51.513538  \n",
       "3  MULTIPOLYGON (((0.05392 51.51611, 0.05174 51.5...  0.052078  51.511347  \n",
       "4  MULTIPOLYGON (((0.03241 51.51704, 0.03179 51.5...  0.031180  51.511230  "
      ]
     },
     "execution_count": 15,
     "metadata": {},
     "output_type": "execute_result"
    }
   ],
   "source": [
    "london.head()"
   ]
  },
  {
   "cell_type": "code",
   "execution_count": 16,
   "metadata": {
    "id": "gRA8fhIhedPA"
   },
   "outputs": [],
   "source": [
    "# plt.figure(figsize=(40,40),dpi=)\n",
    "# ax = london.plot()\n",
    "# london.apply(lambda x: ax.annotate(text=x.MOVEMENT_ID, xy=x.geometry.centroid.coords[0], ha=\"center\"), axis=1)\n",
    "# plt.show()"
   ]
  },
  {
   "cell_type": "code",
   "execution_count": 17,
   "metadata": {
    "id": "UMMHz6_f3w9N"
   },
   "outputs": [],
   "source": [
    "ldn = london.to_crs(\"EPSG: 27700\")\n",
    "#\"EPSG: 27700\""
   ]
  },
  {
   "cell_type": "code",
   "execution_count": 18,
   "metadata": {
    "colab": {
     "base_uri": "https://localhost:8080/"
    },
    "id": "a9jRiVoD3k-m",
    "outputId": "6c21244b-7a5d-4c72-97d9-af7c3d001299"
   },
   "outputs": [
    {
     "data": {
      "text/plain": [
       "<AxesSubplot:>"
      ]
     },
     "execution_count": 18,
     "metadata": {},
     "output_type": "execute_result"
    },
    {
     "data": {
      "image/png": "[encoded data removed]",
      "text/plain": [
       "<Figure size 1152x576 with 1 Axes>"
      ]
     },
     "metadata": {
      "needs_background": "light"
     },
     "output_type": "display_data"
    }
   ],
   "source": [
    "ldn.plot()"
   ]
  },
  {
   "cell_type": "markdown",
   "metadata": {
    "id": "g6Sw1LOJFI18"
   },
   "source": [
    "# ***OpenStreetMap (OSMnx) Initialization***"
   ]
  },
  {
   "cell_type": "markdown",
   "metadata": {
    "id": "N-M5FnY5fFHd"
   },
   "source": [
    "https://osmnx.readthedocs.io/en/stable/index.html"
   ]
  },
  {
   "cell_type": "markdown",
   "metadata": {
    "id": "iXcxeqsj4jgo"
   },
   "source": [
    "## Load saved geopackage"
   ]
  },
  {
   "cell_type": "code",
   "execution_count": 19,
   "metadata": {
    "id": "m2_fdt8M8bB3"
   },
   "outputs": [],
   "source": [
    "# fp = \"https://github.com/mystique1011/ML_competition/blob/main/MEC_dataset/london.gpkg?raw=true\"\n",
    "# gdf_nodes = gpd.read_file(fp, layer=\"nodes\").set_index(\"osmid\")\n",
    "# gdf_edges = gpd.read_file(fp, layer=\"edges\").set_index([\"u\", \"v\", \"key\"])\n",
    "# assert gdf_nodes.index.is_unique and gdf_edges.index.is_unique\n",
    "\n",
    "# # convert the node/edge GeoDataFrames to a MultiDiGraph\n",
    "# graph_attrs = {\"crs\": \"epsg:4326\", \"simplified\": False}\n",
    "# G = ox.graph_from_gdfs(gdf_nodes, gdf_edges, graph_attrs)"
   ]
  },
  {
   "cell_type": "markdown",
   "metadata": {
    "id": "pGmX4JtR4nTh"
   },
   "source": [
    "## Download nodes from OpenStreetMap"
   ]
  },
  {
   "cell_type": "code",
   "execution_count": 20,
   "metadata": {
    "id": "k9eZ9ivlXdzy"
   },
   "outputs": [],
   "source": [
    "G = ox.graph_from_place(\"London, England\", network_type = \"drive\")\n",
    "\n",
    "# fig, ax = ox.plot_graph(G)"
   ]
  },
  {
   "cell_type": "code",
   "execution_count": 21,
   "metadata": {
    "id": "ftmgMTC70jDz"
   },
   "outputs": [],
   "source": [
    "# ox.io.save_graph_geopackage(G,\"../MEC_dataset/london.gpkg\")"
   ]
  },
  {
   "cell_type": "code",
   "execution_count": 22,
   "metadata": {
    "id": "kvL90ZGT0aTZ"
   },
   "outputs": [],
   "source": [
    "# edge_centrality = nx.closeness_centrality(nx.line_graph(G))\n",
    "# nx.set_edge_attributes(G, edge_centrality, \"edge_centrality\")\n",
    "# ec = ox.plot.get_edge_colors_by_attr(G, \"edge_centrality\", cmap=\"inferno\")\n",
    "# fig, ax = ox.plot_graph(G, edge_color=ec, edge_linewidth=2, node_size=0)"
   ]
  },
  {
   "cell_type": "markdown",
   "metadata": {
    "id": "ww3Ici2l4u5i"
   },
   "source": [
    "## Important OSMNx Function"
   ]
  },
  {
   "cell_type": "code",
   "execution_count": 23,
   "metadata": {
    "id": "aunkFKUK0aTa"
   },
   "outputs": [],
   "source": [
    "G = ox.utils_graph.remove_isolated_nodes(G)\n",
    "G = ox.speed.add_edge_speeds(G)\n",
    "G = ox.speed.add_edge_travel_times(G)"
   ]
  },
  {
   "cell_type": "code",
   "execution_count": 24,
   "metadata": {},
   "outputs": [],
   "source": [
    "def get_route(dataframe,attr=\"nodes\", weight=\"length\", cpus=1):\n",
    "    if attr==\"nodes\":\n",
    "        rt = ox.shortest_path(G,dataframe[\"node_id_n_src\"],dataframe[\"node_id_n_dst\"], weight=weight,cpus=cpus)\n",
    "    else:\n",
    "        rt = ox.shortest_path(G,dataframe[\"node_id_e_src\"],dataframe[\"node_id_e_dst\"], weight=weight,cpus=cpus)\n",
    "    return rt"
   ]
  },
  {
   "cell_type": "code",
   "execution_count": 25,
   "metadata": {},
   "outputs": [],
   "source": [
    "def get_attr(route, feature=None):\n",
    "    return ox.utils_graph.get_route_edge_attributes(G,route,feature)"
   ]
  },
  {
   "cell_type": "code",
   "execution_count": 26,
   "metadata": {},
   "outputs": [],
   "source": [
    "def get_attr_count(route, attribute):\n",
    "    attribute_values = []\n",
    "    for u, v in zip(route[:-1], route[1:]):\n",
    "        data = min(G.get_edge_data(u, v).values(), key=lambda x: x[\"length\"])\n",
    "        try:\n",
    "            attribute_value = data[attribute]\n",
    "            attribute_values.append(attribute_value)\n",
    "        except KeyError:\n",
    "            pass\n",
    "    return attribute_values"
   ]
  },
  {
   "cell_type": "markdown",
   "metadata": {
    "id": "5GTKh6f9ODDt"
   },
   "source": [
    "## Extract"
   ]
  },
  {
   "cell_type": "code",
   "execution_count": 27,
   "metadata": {
    "id": "vBXw5nmyOhZO"
   },
   "outputs": [],
   "source": [
    "# Get osmid from London.json\n",
    "london[\"node_id_n\"] = ox.distance.nearest_nodes(G,london.centroid.x,london.centroid.y)\n",
    "london[[\"node_id_e\",\"nodes_id_2\",\"to_drop\"]] = ox.distance.nearest_edges(G,london.centroid.x,london.centroid.y)"
   ]
  },
  {
   "cell_type": "markdown",
   "metadata": {
    "id": "CyORCHqK8mZo"
   },
   "source": [
    "# ***Feature Extraction***"
   ]
  },
  {
   "cell_type": "markdown",
   "metadata": {
    "id": "RdFNdTVT9RRe"
   },
   "source": [
    "## **Get important features from geospatial data**"
   ]
  },
  {
   "cell_type": "code",
   "execution_count": 28,
   "metadata": {},
   "outputs": [
    {
     "data": {
      "text/html": [
       "<div>\n",
       "<style scoped>\n",
       "    .dataframe tbody tr th:only-of-type {\n",
       "        vertical-align: middle;\n",
       "    }\n",
       "\n",
       "    .dataframe tbody tr th {\n",
       "        vertical-align: top;\n",
       "    }\n",
       "\n",
       "    .dataframe thead th {\n",
       "        text-align: right;\n",
       "    }\n",
       "</style>\n",
       "<table border=\"1\" class=\"dataframe\">\n",
       "  <thead>\n",
       "    <tr style=\"text-align: right;\">\n",
       "      <th></th>\n",
       "      <th>la_name</th>\n",
       "      <th>population_density</th>\n",
       "    </tr>\n",
       "  </thead>\n",
       "  <tbody>\n",
       "    <tr>\n",
       "      <th>0</th>\n",
       "      <td>Hillingdon</td>\n",
       "      <td>2671</td>\n",
       "    </tr>\n",
       "    <tr>\n",
       "      <th>1</th>\n",
       "      <td>Newham</td>\n",
       "      <td>9808</td>\n",
       "    </tr>\n",
       "    <tr>\n",
       "      <th>2</th>\n",
       "      <td>Lambeth</td>\n",
       "      <td>11998</td>\n",
       "    </tr>\n",
       "    <tr>\n",
       "      <th>3</th>\n",
       "      <td>Richmond upon Thames</td>\n",
       "      <td>3451</td>\n",
       "    </tr>\n",
       "    <tr>\n",
       "      <th>4</th>\n",
       "      <td>Southwark</td>\n",
       "      <td>11091</td>\n",
       "    </tr>\n",
       "  </tbody>\n",
       "</table>\n",
       "</div>"
      ],
      "text/plain": [
       "                la_name  population_density\n",
       "0            Hillingdon                2671\n",
       "1                Newham                9808\n",
       "2               Lambeth               11998\n",
       "3  Richmond upon Thames                3451\n",
       "4             Southwark               11091"
      ]
     },
     "execution_count": 28,
     "metadata": {},
     "output_type": "execute_result"
    }
   ],
   "source": [
    "pop.head()"
   ]
  },
  {
   "cell_type": "code",
   "execution_count": 29,
   "metadata": {
    "id": "j7-XvDvbB7Q2"
   },
   "outputs": [],
   "source": [
    "london = london.merge(pop,left_on = \"la_name\", right_on = \"la_name\", how = \"left\")"
   ]
  },
  {
   "cell_type": "code",
   "execution_count": 30,
   "metadata": {},
   "outputs": [
    {
     "data": {
      "text/html": [
       "<div>\n",
       "<style scoped>\n",
       "    .dataframe tbody tr th:only-of-type {\n",
       "        vertical-align: middle;\n",
       "    }\n",
       "\n",
       "    .dataframe tbody tr th {\n",
       "        vertical-align: top;\n",
       "    }\n",
       "\n",
       "    .dataframe thead th {\n",
       "        text-align: right;\n",
       "    }\n",
       "</style>\n",
       "<table border=\"1\" class=\"dataframe\">\n",
       "  <thead>\n",
       "    <tr style=\"text-align: right;\">\n",
       "      <th></th>\n",
       "      <th>msoa_code</th>\n",
       "      <th>msoa_name</th>\n",
       "      <th>la_code</th>\n",
       "      <th>la_name</th>\n",
       "      <th>geoeast</th>\n",
       "      <th>geonorth</th>\n",
       "      <th>popeast</th>\n",
       "      <th>popnorth</th>\n",
       "      <th>area_km2</th>\n",
       "      <th>MOVEMENT_ID</th>\n",
       "      <th>DISPLAY_NAME</th>\n",
       "      <th>geometry</th>\n",
       "      <th>x</th>\n",
       "      <th>y</th>\n",
       "      <th>node_id_n</th>\n",
       "      <th>node_id_e</th>\n",
       "      <th>nodes_id_2</th>\n",
       "      <th>to_drop</th>\n",
       "      <th>population_density</th>\n",
       "    </tr>\n",
       "  </thead>\n",
       "  <tbody>\n",
       "    <tr>\n",
       "      <th>0</th>\n",
       "      <td>E02000508</td>\n",
       "      <td>Hillingdon 015</td>\n",
       "      <td>00AS</td>\n",
       "      <td>Hillingdon</td>\n",
       "      <td>506163</td>\n",
       "      <td>183536</td>\n",
       "      <td>505978</td>\n",
       "      <td>183811</td>\n",
       "      <td>2.74660</td>\n",
       "      <td>0</td>\n",
       "      <td>Hillingdon, 00AS (0)</td>\n",
       "      <td>MULTIPOLYGON (((-0.47794 51.55485, -0.47665 51...</td>\n",
       "      <td>-0.470593</td>\n",
       "      <td>51.540762</td>\n",
       "      <td>6271776012</td>\n",
       "      <td>6307891023</td>\n",
       "      <td>7857342724</td>\n",
       "      <td>0</td>\n",
       "      <td>2671</td>\n",
       "    </tr>\n",
       "    <tr>\n",
       "      <th>1</th>\n",
       "      <td>E02000716</td>\n",
       "      <td>Newham 003</td>\n",
       "      <td>00BB</td>\n",
       "      <td>Newham</td>\n",
       "      <td>541978</td>\n",
       "      <td>186009</td>\n",
       "      <td>541870</td>\n",
       "      <td>185568</td>\n",
       "      <td>1.56517</td>\n",
       "      <td>1</td>\n",
       "      <td>Newham, 00BB (1)</td>\n",
       "      <td>MULTIPOLYGON (((0.05255 51.56171, 0.05310 51.5...</td>\n",
       "      <td>0.046567</td>\n",
       "      <td>51.555122</td>\n",
       "      <td>6331732604</td>\n",
       "      <td>32636604</td>\n",
       "      <td>32636592</td>\n",
       "      <td>0</td>\n",
       "      <td>9808</td>\n",
       "    </tr>\n",
       "    <tr>\n",
       "      <th>2</th>\n",
       "      <td>E02000747</td>\n",
       "      <td>Newham 034</td>\n",
       "      <td>00BB</td>\n",
       "      <td>Newham</td>\n",
       "      <td>539578</td>\n",
       "      <td>181317</td>\n",
       "      <td>539891</td>\n",
       "      <td>181438</td>\n",
       "      <td>2.08241</td>\n",
       "      <td>2</td>\n",
       "      <td>Newham, 00BB (2)</td>\n",
       "      <td>MULTIPOLYGON (((0.01001 51.52181, 0.01003 51.5...</td>\n",
       "      <td>0.010071</td>\n",
       "      <td>51.513538</td>\n",
       "      <td>662105375</td>\n",
       "      <td>662105375</td>\n",
       "      <td>662105365</td>\n",
       "      <td>0</td>\n",
       "      <td>9808</td>\n",
       "    </tr>\n",
       "    <tr>\n",
       "      <th>3</th>\n",
       "      <td>E02000748</td>\n",
       "      <td>Newham 035</td>\n",
       "      <td>00BB</td>\n",
       "      <td>Newham</td>\n",
       "      <td>542500</td>\n",
       "      <td>181152</td>\n",
       "      <td>542439</td>\n",
       "      <td>181339</td>\n",
       "      <td>1.33175</td>\n",
       "      <td>3</td>\n",
       "      <td>Newham, 00BB (3)</td>\n",
       "      <td>MULTIPOLYGON (((0.05392 51.51611, 0.05174 51.5...</td>\n",
       "      <td>0.052078</td>\n",
       "      <td>51.511347</td>\n",
       "      <td>666992158</td>\n",
       "      <td>667024057</td>\n",
       "      <td>526010386</td>\n",
       "      <td>0</td>\n",
       "      <td>9808</td>\n",
       "    </tr>\n",
       "    <tr>\n",
       "      <th>4</th>\n",
       "      <td>E02000749</td>\n",
       "      <td>Newham 036</td>\n",
       "      <td>00BB</td>\n",
       "      <td>Newham</td>\n",
       "      <td>541047</td>\n",
       "      <td>181103</td>\n",
       "      <td>540847</td>\n",
       "      <td>181294</td>\n",
       "      <td>1.41902</td>\n",
       "      <td>4</td>\n",
       "      <td>Newham, 00BB (4)</td>\n",
       "      <td>MULTIPOLYGON (((0.03241 51.51704, 0.03179 51.5...</td>\n",
       "      <td>0.031180</td>\n",
       "      <td>51.511230</td>\n",
       "      <td>282590709</td>\n",
       "      <td>135551775</td>\n",
       "      <td>283249668</td>\n",
       "      <td>0</td>\n",
       "      <td>9808</td>\n",
       "    </tr>\n",
       "  </tbody>\n",
       "</table>\n",
       "</div>"
      ],
      "text/plain": [
       "   msoa_code       msoa_name la_code     la_name  geoeast  geonorth  popeast  \\\n",
       "0  E02000508  Hillingdon 015    00AS  Hillingdon   506163    183536   505978   \n",
       "1  E02000716      Newham 003    00BB      Newham   541978    186009   541870   \n",
       "2  E02000747      Newham 034    00BB      Newham   539578    181317   539891   \n",
       "3  E02000748      Newham 035    00BB      Newham   542500    181152   542439   \n",
       "4  E02000749      Newham 036    00BB      Newham   541047    181103   540847   \n",
       "\n",
       "   popnorth  area_km2  MOVEMENT_ID          DISPLAY_NAME  \\\n",
       "0    183811   2.74660            0  Hillingdon, 00AS (0)   \n",
       "1    185568   1.56517            1      Newham, 00BB (1)   \n",
       "2    181438   2.08241            2      Newham, 00BB (2)   \n",
       "3    181339   1.33175            3      Newham, 00BB (3)   \n",
       "4    181294   1.41902            4      Newham, 00BB (4)   \n",
       "\n",
       "                                            geometry         x          y  \\\n",
       "0  MULTIPOLYGON (((-0.47794 51.55485, -0.47665 51... -0.470593  51.540762   \n",
       "1  MULTIPOLYGON (((0.05255 51.56171, 0.05310 51.5...  0.046567  51.555122   \n",
       "2  MULTIPOLYGON (((0.01001 51.52181, 0.01003 51.5...  0.010071  51.513538   \n",
       "3  MULTIPOLYGON (((0.05392 51.51611, 0.05174 51.5...  0.052078  51.511347   \n",
       "4  MULTIPOLYGON (((0.03241 51.51704, 0.03179 51.5...  0.031180  51.511230   \n",
       "\n",
       "    node_id_n   node_id_e  nodes_id_2  to_drop  population_density  \n",
       "0  6271776012  6307891023  7857342724        0                2671  \n",
       "1  6331732604    32636604    32636592        0                9808  \n",
       "2   662105375   662105375   662105365        0                9808  \n",
       "3   666992158   667024057   526010386        0                9808  \n",
       "4   282590709   135551775   283249668        0                9808  "
      ]
     },
     "execution_count": 30,
     "metadata": {},
     "output_type": "execute_result"
    }
   ],
   "source": [
    "london.head()"
   ]
  },
  {
   "cell_type": "code",
   "execution_count": 31,
   "metadata": {
    "colab": {
     "base_uri": "https://localhost:8080/",
     "height": 204
    },
    "id": "Sc0uYE3aPa-d",
    "outputId": "1adf1e1a-9e5e-415e-c2d8-4734d840b992"
   },
   "outputs": [
    {
     "data": {
      "text/html": [
       "<div>\n",
       "<style scoped>\n",
       "    .dataframe tbody tr th:only-of-type {\n",
       "        vertical-align: middle;\n",
       "    }\n",
       "\n",
       "    .dataframe tbody tr th {\n",
       "        vertical-align: top;\n",
       "    }\n",
       "\n",
       "    .dataframe thead th {\n",
       "        text-align: right;\n",
       "    }\n",
       "</style>\n",
       "<table border=\"1\" class=\"dataframe\">\n",
       "  <thead>\n",
       "    <tr style=\"text-align: right;\">\n",
       "      <th></th>\n",
       "      <th>sourceid</th>\n",
       "      <th>dstid</th>\n",
       "      <th>dow</th>\n",
       "      <th>mean_travel_time</th>\n",
       "      <th>la_name_src</th>\n",
       "      <th>geoeast_src</th>\n",
       "      <th>geonorth_src</th>\n",
       "      <th>popeast_src</th>\n",
       "      <th>popnorth_src</th>\n",
       "      <th>area_src</th>\n",
       "      <th>...</th>\n",
       "      <th>geoeast_dst</th>\n",
       "      <th>geonorth_dst</th>\n",
       "      <th>popeast_dst</th>\n",
       "      <th>popnorth_dst</th>\n",
       "      <th>area_dst</th>\n",
       "      <th>dst_x</th>\n",
       "      <th>dst_y</th>\n",
       "      <th>node_id_n_dst</th>\n",
       "      <th>node_id_e_dst</th>\n",
       "      <th>population_density_dst</th>\n",
       "    </tr>\n",
       "  </thead>\n",
       "  <tbody>\n",
       "    <tr>\n",
       "      <th>0</th>\n",
       "      <td>10</td>\n",
       "      <td>241</td>\n",
       "      <td>3</td>\n",
       "      <td>2334.43</td>\n",
       "      <td>Newham</td>\n",
       "      <td>542413</td>\n",
       "      <td>182380</td>\n",
       "      <td>542450</td>\n",
       "      <td>182415</td>\n",
       "      <td>0.790802</td>\n",
       "      <td>...</td>\n",
       "      <td>530851</td>\n",
       "      <td>174285</td>\n",
       "      <td>530876</td>\n",
       "      <td>174289</td>\n",
       "      <td>0.584104</td>\n",
       "      <td>-0.118199</td>\n",
       "      <td>51.452418</td>\n",
       "      <td>33776678</td>\n",
       "      <td>33776696</td>\n",
       "      <td>11998</td>\n",
       "    </tr>\n",
       "    <tr>\n",
       "      <th>1</th>\n",
       "      <td>10</td>\n",
       "      <td>612</td>\n",
       "      <td>5</td>\n",
       "      <td>1529.83</td>\n",
       "      <td>Newham</td>\n",
       "      <td>542413</td>\n",
       "      <td>182380</td>\n",
       "      <td>542450</td>\n",
       "      <td>182415</td>\n",
       "      <td>0.790802</td>\n",
       "      <td>...</td>\n",
       "      <td>551347</td>\n",
       "      <td>192721</td>\n",
       "      <td>550534</td>\n",
       "      <td>191931</td>\n",
       "      <td>6.279430</td>\n",
       "      <td>0.184471</td>\n",
       "      <td>51.612990</td>\n",
       "      <td>1138048373</td>\n",
       "      <td>25760609</td>\n",
       "      <td>2320</td>\n",
       "    </tr>\n",
       "    <tr>\n",
       "      <th>2</th>\n",
       "      <td>10</td>\n",
       "      <td>905</td>\n",
       "      <td>4</td>\n",
       "      <td>1390.04</td>\n",
       "      <td>Newham</td>\n",
       "      <td>542413</td>\n",
       "      <td>182380</td>\n",
       "      <td>542450</td>\n",
       "      <td>182415</td>\n",
       "      <td>0.790802</td>\n",
       "      <td>...</td>\n",
       "      <td>535060</td>\n",
       "      <td>178641</td>\n",
       "      <td>535009</td>\n",
       "      <td>178663</td>\n",
       "      <td>0.662274</td>\n",
       "      <td>-0.056014</td>\n",
       "      <td>51.490606</td>\n",
       "      <td>104397683</td>\n",
       "      <td>270932211</td>\n",
       "      <td>11091</td>\n",
       "    </tr>\n",
       "    <tr>\n",
       "      <th>3</th>\n",
       "      <td>10</td>\n",
       "      <td>407</td>\n",
       "      <td>7</td>\n",
       "      <td>157.91</td>\n",
       "      <td>Newham</td>\n",
       "      <td>542413</td>\n",
       "      <td>182380</td>\n",
       "      <td>542450</td>\n",
       "      <td>182415</td>\n",
       "      <td>0.790802</td>\n",
       "      <td>...</td>\n",
       "      <td>544366</td>\n",
       "      <td>183515</td>\n",
       "      <td>544543</td>\n",
       "      <td>183531</td>\n",
       "      <td>0.796626</td>\n",
       "      <td>0.079911</td>\n",
       "      <td>51.532079</td>\n",
       "      <td>180624488</td>\n",
       "      <td>180624488</td>\n",
       "      <td>5933</td>\n",
       "    </tr>\n",
       "    <tr>\n",
       "      <th>4</th>\n",
       "      <td>10</td>\n",
       "      <td>603</td>\n",
       "      <td>4</td>\n",
       "      <td>1781.67</td>\n",
       "      <td>Newham</td>\n",
       "      <td>542413</td>\n",
       "      <td>182380</td>\n",
       "      <td>542450</td>\n",
       "      <td>182415</td>\n",
       "      <td>0.790802</td>\n",
       "      <td>...</td>\n",
       "      <td>532416</td>\n",
       "      <td>197315</td>\n",
       "      <td>532432</td>\n",
       "      <td>197391</td>\n",
       "      <td>1.282990</td>\n",
       "      <td>-0.087059</td>\n",
       "      <td>51.659039</td>\n",
       "      <td>11377862</td>\n",
       "      <td>11379331</td>\n",
       "      <td>4127</td>\n",
       "    </tr>\n",
       "  </tbody>\n",
       "</table>\n",
       "<p>5 rows × 26 columns</p>\n",
       "</div>"
      ],
      "text/plain": [
       "   sourceid  dstid  dow  mean_travel_time la_name_src  geoeast_src  \\\n",
       "0        10    241    3           2334.43      Newham       542413   \n",
       "1        10    612    5           1529.83      Newham       542413   \n",
       "2        10    905    4           1390.04      Newham       542413   \n",
       "3        10    407    7            157.91      Newham       542413   \n",
       "4        10    603    4           1781.67      Newham       542413   \n",
       "\n",
       "   geonorth_src  popeast_src  popnorth_src  area_src  ...  geoeast_dst  \\\n",
       "0        182380       542450        182415  0.790802  ...       530851   \n",
       "1        182380       542450        182415  0.790802  ...       551347   \n",
       "2        182380       542450        182415  0.790802  ...       535060   \n",
       "3        182380       542450        182415  0.790802  ...       544366   \n",
       "4        182380       542450        182415  0.790802  ...       532416   \n",
       "\n",
       "   geonorth_dst  popeast_dst  popnorth_dst  area_dst     dst_x      dst_y  \\\n",
       "0        174285       530876        174289  0.584104 -0.118199  51.452418   \n",
       "1        192721       550534        191931  6.279430  0.184471  51.612990   \n",
       "2        178641       535009        178663  0.662274 -0.056014  51.490606   \n",
       "3        183515       544543        183531  0.796626  0.079911  51.532079   \n",
       "4        197315       532432        197391  1.282990 -0.087059  51.659039   \n",
       "\n",
       "   node_id_n_dst  node_id_e_dst  population_density_dst  \n",
       "0       33776678       33776696                   11998  \n",
       "1     1138048373       25760609                    2320  \n",
       "2      104397683      270932211                   11091  \n",
       "3      180624488      180624488                    5933  \n",
       "4       11377862       11379331                    4127  \n",
       "\n",
       "[5 rows x 26 columns]"
      ]
     },
     "execution_count": 31,
     "metadata": {},
     "output_type": "execute_result"
    }
   ],
   "source": [
    "ldn = london.drop([\"DISPLAY_NAME\",\"geometry\",\"msoa_code\",\"msoa_name\",\"la_code\",\"nodes_id_2\",\"to_drop\"],axis=1)\n",
    "\n",
    "src = df.merge(ldn, left_on = \"sourceid\", right_on = \"MOVEMENT_ID\", how = \"left\")\n",
    "src = src.rename({\"geoeast\":\"geoeast_src\", \"geonorth\":\"geonorth_src\",\"popeast\":\"popeast_src\",\"popnorth\":\"popnorth_src\",\n",
    "                  \"la_name\":\"la_name_src\",\"area_km2\":\"area_src\", \"msoa_code\":\"msoa_code_src\", \"x\" : \"src_x\", \"y\" : \"src_y\",\n",
    "                 \"node_id_n\" : \"node_id_n_src\", \"node_id_e\" : \"node_id_e_src\",\"population_density\":\"population_density_src\"},axis = 1)\n",
    "\n",
    "dst = src.merge(ldn, left_on = \"dstid\", right_on = \"MOVEMENT_ID\", how = \"left\")\n",
    "dst = dst.rename({\"geoeast\":\"geoeast_dst\", \"geonorth\":\"geonorth_dst\",\"popeast\":\"popeast_dst\",\"popnorth\":\"popnorth_dst\",\n",
    "                  \"la_name\":\"la_name_dst\",\"area_km2\":\"area_dst\",\"msoa_code\":\"msoa_code_dst\",\"x\" : \"dst_x\", \"y\" : \"dst_y\",\n",
    "                  \"node_id_n\" : \"node_id_n_dst\", \"node_id_e\" : \"node_id_e_dst\",\"population_density\":\"population_density_dst\"},axis = 1)\n",
    "\n",
    "df = dst.drop([\"MOVEMENT_ID_x\",\"MOVEMENT_ID_y\"],axis=1)\n",
    "\n",
    "df.head()"
   ]
  },
  {
   "cell_type": "markdown",
   "metadata": {
    "id": "gDOlYBom9YJm"
   },
   "source": [
    "## **Calculate Displacement**"
   ]
  },
  {
   "cell_type": "code",
   "execution_count": 32,
   "metadata": {
    "id": "xZzybEOBgPcA"
   },
   "outputs": [],
   "source": [
    "df[\"geo_displacement\"] = np.linalg.norm(df.loc[:, [\"geoeast_src\",\"geonorth_src\"]].values - df.loc[:, [\"geoeast_dst\",\"geonorth_dst\"]], axis=1)\n",
    "df[\"pop_displacement\"] = np.linalg.norm(df.loc[:, [\"popeast_src\",\"popnorth_src\"]].values - df.loc[:, [\"popeast_dst\",\"popnorth_dst\"]], axis=1)"
   ]
  },
  {
   "cell_type": "code",
   "execution_count": 33,
   "metadata": {
    "id": "4pVObRJe9pMw"
   },
   "outputs": [],
   "source": [
    "df[\"geo_displacement_log\"] = np.log(df[\"geo_displacement\"].values + 1)\n",
    "df[\"geo_displacement_sqrt\"] =  np.sqrt(df[\"geo_displacement\"])"
   ]
  },
  {
   "cell_type": "markdown",
   "metadata": {
    "id": "JB4H9-a4f5yk"
   },
   "source": [
    "## **Calculate Direction**"
   ]
  },
  {
   "cell_type": "code",
   "execution_count": 34,
   "metadata": {
    "id": "C9rHU7VP7WlX"
   },
   "outputs": [],
   "source": [
    "xDiff = df.loc[:, \"geonorth_dst\"].values - df.loc[:, \"geonorth_src\"].values\n",
    "yDiff = df.loc[:, \"geoeast_dst\"].values - df.loc[:, \"geoeast_src\"].values\n",
    "df[\"direction\"] = np.round(np.degrees(np.arctan2(yDiff,xDiff)))"
   ]
  },
  {
   "cell_type": "markdown",
   "metadata": {
    "id": "ss-IfHBFAcXh"
   },
   "source": [
    "# **OSMnx features**"
   ]
  },
  {
   "cell_type": "code",
   "execution_count": 40,
   "metadata": {
    "colab": {
     "base_uri": "https://localhost:8080/"
    },
    "id": "-L50fkjjoQaz",
    "outputId": "109dfa82-56f6-450a-bf8e-462ecc60275f"
   },
   "outputs": [],
   "source": [
    "df[\"route_travel_time\"] = get_route(df,weight=\"travel_time\")"
   ]
  },
  {
   "cell_type": "code",
   "execution_count": 41,
   "metadata": {},
   "outputs": [
    {
     "data": {
      "text/plain": [
       "32"
      ]
     },
     "execution_count": 41,
     "metadata": {},
     "output_type": "execute_result"
    }
   ],
   "source": [
    "missing_route_travel_time = df[df[\"route_travel_time\"].isna()]\n",
    "len(missing_route_travel_time)"
   ]
  },
  {
   "cell_type": "markdown",
   "metadata": {
    "id": "GCP-ngzL8vpJ"
   },
   "source": [
    "## Missing route handling"
   ]
  },
  {
   "cell_type": "code",
   "execution_count": 42,
   "metadata": {},
   "outputs": [],
   "source": [
    "df.loc[missing_route_travel_time.index,\"route_travel_time\"] = get_route(missing_route_travel_time,\"edges\",\"travel_time\")"
   ]
  },
  {
   "cell_type": "code",
   "execution_count": 43,
   "metadata": {},
   "outputs": [
    {
     "data": {
      "text/plain": [
       "0"
      ]
     },
     "execution_count": 43,
     "metadata": {},
     "output_type": "execute_result"
    }
   ],
   "source": [
    "missing_route_travel_time = df[df[\"route_travel_time\"].isna()]\n",
    "len(missing_route_travel_time)"
   ]
  },
  {
   "cell_type": "markdown",
   "metadata": {},
   "source": [
    "## Extract Features"
   ]
  },
  {
   "cell_type": "code",
   "execution_count": 47,
   "metadata": {},
   "outputs": [],
   "source": [
    "df[\"road_distance_by_travel_time\"] = [round(sum(get_attr(row[\"route_travel_time\"], \"length\"))) for index, row in df.iterrows()]\n",
    "df[\"maxspeed_travel_time\"] = [round(np.mean(get_attr(row[\"route_travel_time\"], \"speed_kph\"))) for index, row in df.iterrows()]\n",
    "df[\"fastest_travel_time\"] = [round(sum(get_attr(row[\"route_travel_time\"], \"travel_time\"))) for index, row in df.iterrows()]"
   ]
  },
  {
   "cell_type": "code",
   "execution_count": 48,
   "metadata": {},
   "outputs": [],
   "source": [
    "oneway_len=[]\n",
    "for index, row in df.iterrows():\n",
    "    oneway = get_attr(row[\"route_travel_time\"], \"oneway\")\n",
    "    length = get_attr(row[\"route_travel_time\"], \"length\")\n",
    "    one_len = np.array(length)[np.array(oneway)]\n",
    "    oneway_len.append(round(np.sum(one_len)))\n",
    "    \n",
    "df[\"oneway_length_by_travel_time\"] = oneway_len"
   ]
  },
  {
   "cell_type": "markdown",
   "metadata": {
    "id": "HWoa_wPFyjnA"
   },
   "source": [
    "# ***Categorical to Numerical***"
   ]
  },
  {
   "cell_type": "code",
   "execution_count": 49,
   "metadata": {
    "colab": {
     "base_uri": "https://localhost:8080/",
     "height": 224
    },
    "id": "TdPXJA8LymY6",
    "outputId": "4d2539e0-64ab-4c45-dec3-d1ae5e06a115"
   },
   "outputs": [],
   "source": [
    "ordinal_encoder = OrdinalEncoder()\n",
    "object_cols = [\"la_name_src\",\"la_name_dst\"]\n",
    "df[[\"la_name_src_num\",\"la_name_dst_num\"]] = ordinal_encoder.fit_transform(df[object_cols])"
   ]
  },
  {
   "cell_type": "code",
   "execution_count": 50,
   "metadata": {
    "colab": {
     "base_uri": "https://localhost:8080/",
     "height": 224
    },
    "id": "shu8xMZS2pqt",
    "outputId": "9d88a16e-fc17-46e3-9a8f-680dbf45137a"
   },
   "outputs": [
    {
     "data": {
      "text/html": [
       "<div>\n",
       "<style scoped>\n",
       "    .dataframe tbody tr th:only-of-type {\n",
       "        vertical-align: middle;\n",
       "    }\n",
       "\n",
       "    .dataframe tbody tr th {\n",
       "        vertical-align: top;\n",
       "    }\n",
       "\n",
       "    .dataframe thead th {\n",
       "        text-align: right;\n",
       "    }\n",
       "</style>\n",
       "<table border=\"1\" class=\"dataframe\">\n",
       "  <thead>\n",
       "    <tr style=\"text-align: right;\">\n",
       "      <th></th>\n",
       "      <th>sourceid</th>\n",
       "      <th>dstid</th>\n",
       "      <th>dow</th>\n",
       "      <th>mean_travel_time</th>\n",
       "      <th>la_name_src</th>\n",
       "      <th>geoeast_src</th>\n",
       "      <th>geonorth_src</th>\n",
       "      <th>popeast_src</th>\n",
       "      <th>popnorth_src</th>\n",
       "      <th>area_src</th>\n",
       "      <th>...</th>\n",
       "      <th>geo_displacement_sqrt</th>\n",
       "      <th>direction</th>\n",
       "      <th>route_travel_time</th>\n",
       "      <th>road_distance_by_travel_time</th>\n",
       "      <th>maxspeed_length</th>\n",
       "      <th>maxspeed_travel_time</th>\n",
       "      <th>fastest_travel_time</th>\n",
       "      <th>oneway_length_by_travel_time</th>\n",
       "      <th>la_name_src_num</th>\n",
       "      <th>la_name_dst_num</th>\n",
       "    </tr>\n",
       "  </thead>\n",
       "  <tbody>\n",
       "    <tr>\n",
       "      <th>0</th>\n",
       "      <td>10</td>\n",
       "      <td>241</td>\n",
       "      <td>3</td>\n",
       "      <td>2334.43</td>\n",
       "      <td>Newham</td>\n",
       "      <td>542413</td>\n",
       "      <td>182380</td>\n",
       "      <td>542450</td>\n",
       "      <td>182415</td>\n",
       "      <td>0.790802</td>\n",
       "      <td>...</td>\n",
       "      <td>118.802934</td>\n",
       "      <td>-125.0</td>\n",
       "      <td>[5670849155, 5670849154, 21643445, 3639591391,...</td>\n",
       "      <td>19291</td>\n",
       "      <td>48</td>\n",
       "      <td>48</td>\n",
       "      <td>1413</td>\n",
       "      <td>9096</td>\n",
       "      <td>24.0</td>\n",
       "      <td>21.0</td>\n",
       "    </tr>\n",
       "    <tr>\n",
       "      <th>1</th>\n",
       "      <td>10</td>\n",
       "      <td>612</td>\n",
       "      <td>5</td>\n",
       "      <td>1529.83</td>\n",
       "      <td>Newham</td>\n",
       "      <td>542413</td>\n",
       "      <td>182380</td>\n",
       "      <td>542450</td>\n",
       "      <td>182415</td>\n",
       "      <td>0.790802</td>\n",
       "      <td>...</td>\n",
       "      <td>116.900585</td>\n",
       "      <td>41.0</td>\n",
       "      <td>[5670849155, 5670849154, 21643445, 3639591391,...</td>\n",
       "      <td>17966</td>\n",
       "      <td>55</td>\n",
       "      <td>55</td>\n",
       "      <td>1084</td>\n",
       "      <td>12250</td>\n",
       "      <td>24.0</td>\n",
       "      <td>15.0</td>\n",
       "    </tr>\n",
       "    <tr>\n",
       "      <th>2</th>\n",
       "      <td>10</td>\n",
       "      <td>905</td>\n",
       "      <td>4</td>\n",
       "      <td>1390.04</td>\n",
       "      <td>Newham</td>\n",
       "      <td>542413</td>\n",
       "      <td>182380</td>\n",
       "      <td>542450</td>\n",
       "      <td>182415</td>\n",
       "      <td>0.790802</td>\n",
       "      <td>...</td>\n",
       "      <td>90.824249</td>\n",
       "      <td>-117.0</td>\n",
       "      <td>[5670849155, 5670849154, 21643445, 3639591391,...</td>\n",
       "      <td>11622</td>\n",
       "      <td>49</td>\n",
       "      <td>49</td>\n",
       "      <td>899</td>\n",
       "      <td>6326</td>\n",
       "      <td>24.0</td>\n",
       "      <td>27.0</td>\n",
       "    </tr>\n",
       "  </tbody>\n",
       "</table>\n",
       "<p>3 rows × 39 columns</p>\n",
       "</div>"
      ],
      "text/plain": [
       "   sourceid  dstid  dow  mean_travel_time la_name_src  geoeast_src  \\\n",
       "0        10    241    3           2334.43      Newham       542413   \n",
       "1        10    612    5           1529.83      Newham       542413   \n",
       "2        10    905    4           1390.04      Newham       542413   \n",
       "\n",
       "   geonorth_src  popeast_src  popnorth_src  area_src  ...  \\\n",
       "0        182380       542450        182415  0.790802  ...   \n",
       "1        182380       542450        182415  0.790802  ...   \n",
       "2        182380       542450        182415  0.790802  ...   \n",
       "\n",
       "   geo_displacement_sqrt  direction  \\\n",
       "0             118.802934     -125.0   \n",
       "1             116.900585       41.0   \n",
       "2              90.824249     -117.0   \n",
       "\n",
       "                                   route_travel_time  \\\n",
       "0  [5670849155, 5670849154, 21643445, 3639591391,...   \n",
       "1  [5670849155, 5670849154, 21643445, 3639591391,...   \n",
       "2  [5670849155, 5670849154, 21643445, 3639591391,...   \n",
       "\n",
       "   road_distance_by_travel_time  maxspeed_length maxspeed_travel_time  \\\n",
       "0                         19291               48                   48   \n",
       "1                         17966               55                   55   \n",
       "2                         11622               49                   49   \n",
       "\n",
       "   fastest_travel_time  oneway_length_by_travel_time  la_name_src_num  \\\n",
       "0                 1413                          9096             24.0   \n",
       "1                 1084                         12250             24.0   \n",
       "2                  899                          6326             24.0   \n",
       "\n",
       "   la_name_dst_num  \n",
       "0             21.0  \n",
       "1             15.0  \n",
       "2             27.0  \n",
       "\n",
       "[3 rows x 39 columns]"
      ]
     },
     "execution_count": 50,
     "metadata": {},
     "output_type": "execute_result"
    }
   ],
   "source": [
    "df.head(3)"
   ]
  },
  {
   "cell_type": "markdown",
   "metadata": {},
   "source": [
    "# Solving for testing dataset"
   ]
  },
  {
   "cell_type": "code",
   "execution_count": 74,
   "metadata": {},
   "outputs": [],
   "source": [
    "test = pd.read_csv(\"C:/Users/lowmi/Downloads/Compressed/MEC_dataset/testing_dataset.csv\",index_col=0)"
   ]
  },
  {
   "cell_type": "code",
   "execution_count": 75,
   "metadata": {},
   "outputs": [
    {
     "data": {
      "text/html": [
       "<div>\n",
       "<style scoped>\n",
       "    .dataframe tbody tr th:only-of-type {\n",
       "        vertical-align: middle;\n",
       "    }\n",
       "\n",
       "    .dataframe tbody tr th {\n",
       "        vertical-align: top;\n",
       "    }\n",
       "\n",
       "    .dataframe thead th {\n",
       "        text-align: right;\n",
       "    }\n",
       "</style>\n",
       "<table border=\"1\" class=\"dataframe\">\n",
       "  <thead>\n",
       "    <tr style=\"text-align: right;\">\n",
       "      <th></th>\n",
       "      <th>dstid</th>\n",
       "      <th>dow</th>\n",
       "    </tr>\n",
       "    <tr>\n",
       "      <th>sourceid</th>\n",
       "      <th></th>\n",
       "      <th></th>\n",
       "    </tr>\n",
       "  </thead>\n",
       "  <tbody>\n",
       "    <tr>\n",
       "      <th>10</th>\n",
       "      <td>950</td>\n",
       "      <td>2</td>\n",
       "    </tr>\n",
       "    <tr>\n",
       "      <th>10</th>\n",
       "      <td>889</td>\n",
       "      <td>2</td>\n",
       "    </tr>\n",
       "    <tr>\n",
       "      <th>260</th>\n",
       "      <td>145</td>\n",
       "      <td>2</td>\n",
       "    </tr>\n",
       "    <tr>\n",
       "      <th>260</th>\n",
       "      <td>932</td>\n",
       "      <td>7</td>\n",
       "    </tr>\n",
       "    <tr>\n",
       "      <th>41</th>\n",
       "      <td>808</td>\n",
       "      <td>2</td>\n",
       "    </tr>\n",
       "  </tbody>\n",
       "</table>\n",
       "</div>"
      ],
      "text/plain": [
       "          dstid  dow\n",
       "sourceid            \n",
       "10          950    2\n",
       "10          889    2\n",
       "260         145    2\n",
       "260         932    7\n",
       "41          808    2"
      ]
     },
     "execution_count": 75,
     "metadata": {},
     "output_type": "execute_result"
    }
   ],
   "source": [
    "test.head()"
   ]
  },
  {
   "cell_type": "code",
   "execution_count": 76,
   "metadata": {},
   "outputs": [],
   "source": [
    "ldn = london.drop([\"DISPLAY_NAME\",\"geometry\",\"msoa_code\",\"msoa_name\",\"la_code\",\"nodes_id_2\",\"to_drop\"],axis=1)\n",
    "\n",
    "tsrc = test.merge(ldn, left_on = \"sourceid\", right_on = \"MOVEMENT_ID\", how = \"left\")\n",
    "tsrc = tsrc.rename({\"geoeast\":\"geoeast_src\", \"geonorth\":\"geonorth_src\",\"popeast\":\"popeast_src\",\"popnorth\":\"popnorth_src\",\n",
    "                  \"la_name\":\"la_name_src\",\"area_km2\":\"area_src\", \"msoa_code\":\"msoa_code_src\", \"x\" : \"src_x\", \"y\" : \"src_y\",\n",
    "                 \"node_id_n\" : \"node_id_n_src\", \"node_id_e\" : \"node_id_e_src\"},axis = 1)\n",
    "\n",
    "tdst = tsrc.merge(ldn, left_on = \"dstid\", right_on = \"MOVEMENT_ID\", how = \"left\")\n",
    "tdst = tdst.rename({\"geoeast\":\"geoeast_dst\", \"geonorth\":\"geonorth_dst\",\"popeast\":\"popeast_dst\",\"popnorth\":\"popnorth_dst\",\n",
    "                  \"la_name\":\"la_name_dst\",\"area_km2\":\"area_dst\",\"msoa_code\":\"msoa_code_dst\",\"x\" : \"dst_x\", \"y\" : \"dst_y\",\n",
    "                  \"node_id_n\" : \"node_id_n_dst\", \"node_id_e\" : \"node_id_e_dst\"},axis = 1)\n",
    "\n",
    "test = tdst.drop([\"MOVEMENT_ID_x\",\"MOVEMENT_ID_y\"],axis=1)"
   ]
  },
  {
   "cell_type": "code",
   "execution_count": 77,
   "metadata": {},
   "outputs": [],
   "source": [
    "test[\"geo_displacement\"] = np.linalg.norm(test.loc[:, [\"geoeast_src\",\"geonorth_src\"]].values - test.loc[:, [\"geoeast_dst\",\"geonorth_dst\"]], axis=1)\n",
    "test[\"pop_displacement\"] = np.linalg.norm(test.loc[:, [\"popeast_src\",\"popnorth_src\"]].values - test.loc[:, [\"popeast_dst\",\"popnorth_dst\"]], axis=1)"
   ]
  },
  {
   "cell_type": "code",
   "execution_count": 78,
   "metadata": {},
   "outputs": [],
   "source": [
    "test[\"geo_displacement_log\"] = np.log(test[\"geo_displacement\"].values + 1)\n",
    "test[\"geo_displacement_sqrt\"] =  np.sqrt(test[\"geo_displacement\"])"
   ]
  },
  {
   "cell_type": "code",
   "execution_count": 79,
   "metadata": {},
   "outputs": [],
   "source": [
    "xDiff = test.loc[:, \"geonorth_dst\"].values - test.loc[:, \"geonorth_src\"].values\n",
    "yDiff = test.loc[:, \"geoeast_dst\"].values - test.loc[:, \"geoeast_src\"].values\n",
    "test[\"direction\"] = np.round(np.degrees(np.arctan2(yDiff,xDiff)))"
   ]
  },
  {
   "cell_type": "code",
   "execution_count": 80,
   "metadata": {},
   "outputs": [],
   "source": [
    "test[\"route_travel_time\"] = get_route(test,weight=\"travel_time\")"
   ]
  },
  {
   "cell_type": "code",
   "execution_count": 81,
   "metadata": {},
   "outputs": [
    {
     "data": {
      "text/plain": [
       "5"
      ]
     },
     "execution_count": 81,
     "metadata": {},
     "output_type": "execute_result"
    }
   ],
   "source": [
    "tmissing_route = test[test[\"route_travel_time\"].isna()]\n",
    "len(tmissing_route)"
   ]
  },
  {
   "cell_type": "code",
   "execution_count": 82,
   "metadata": {},
   "outputs": [],
   "source": [
    "test.loc[tmissing_route.index,\"route_travel_time\"] = get_route(tmissing_route,\"edges\",\"travel_time\")"
   ]
  },
  {
   "cell_type": "code",
   "execution_count": 83,
   "metadata": {},
   "outputs": [
    {
     "data": {
      "text/plain": [
       "0"
      ]
     },
     "execution_count": 83,
     "metadata": {},
     "output_type": "execute_result"
    }
   ],
   "source": [
    "tmissing_route = test[test[\"route_travel_time\"].isna()]\n",
    "len(tmissing_route)"
   ]
  },
  {
   "cell_type": "code",
   "execution_count": 84,
   "metadata": {},
   "outputs": [],
   "source": [
    "test[\"road_distance_by_travel_time\"] = [round(sum(get_attr(row[\"route_travel_time\"], \"length\"))) for index, row in test.iterrows()]\n",
    "test[\"maxspeed_travel_time\"] = [round(np.mean(get_attr(row[\"route_travel_time\"], \"speed_kph\"))) for index, row in test.iterrows()]\n",
    "test[\"fastest_travel_time\"] = [round(sum(get_attr(row[\"route_travel_time\"], \"travel_time\"))) for index, row in test.iterrows()]"
   ]
  },
  {
   "cell_type": "code",
   "execution_count": 85,
   "metadata": {},
   "outputs": [],
   "source": [
    "oneway_len_travel_time=[]\n",
    "for index, row in test.iterrows():\n",
    "    oneway = get_attr(row[\"route_travel_time\"], \"oneway\")\n",
    "    length = get_attr(row[\"route_travel_time\"], \"length\")\n",
    "    one_len = np.array(length)[np.array(oneway)]\n",
    "    oneway_len_travel_time.append(round(np.sum(one_len)))\n",
    "    \n",
    "test[\"oneway_length_by_travel_time\"] = oneway_len_travel_time"
   ]
  },
  {
   "cell_type": "code",
   "execution_count": 86,
   "metadata": {},
   "outputs": [
    {
     "data": {
      "text/html": [
       "<div>\n",
       "<style scoped>\n",
       "    .dataframe tbody tr th:only-of-type {\n",
       "        vertical-align: middle;\n",
       "    }\n",
       "\n",
       "    .dataframe tbody tr th {\n",
       "        vertical-align: top;\n",
       "    }\n",
       "\n",
       "    .dataframe thead th {\n",
       "        text-align: right;\n",
       "    }\n",
       "</style>\n",
       "<table border=\"1\" class=\"dataframe\">\n",
       "  <thead>\n",
       "    <tr style=\"text-align: right;\">\n",
       "      <th></th>\n",
       "      <th>dstid</th>\n",
       "      <th>dow</th>\n",
       "      <th>la_name_src</th>\n",
       "      <th>geoeast_src</th>\n",
       "      <th>geonorth_src</th>\n",
       "      <th>popeast_src</th>\n",
       "      <th>popnorth_src</th>\n",
       "      <th>area_src</th>\n",
       "      <th>src_x</th>\n",
       "      <th>src_y</th>\n",
       "      <th>...</th>\n",
       "      <th>geo_displacement</th>\n",
       "      <th>pop_displacement</th>\n",
       "      <th>geo_displacement_log</th>\n",
       "      <th>geo_displacement_sqrt</th>\n",
       "      <th>direction</th>\n",
       "      <th>route_travel_time</th>\n",
       "      <th>road_distance_by_travel_time</th>\n",
       "      <th>maxspeed_travel_time</th>\n",
       "      <th>fastest_travel_time</th>\n",
       "      <th>oneway_length_by_travel_time</th>\n",
       "    </tr>\n",
       "  </thead>\n",
       "  <tbody>\n",
       "    <tr>\n",
       "      <th>0</th>\n",
       "      <td>950</td>\n",
       "      <td>2</td>\n",
       "      <td>Newham</td>\n",
       "      <td>542413</td>\n",
       "      <td>182380</td>\n",
       "      <td>542450</td>\n",
       "      <td>182415</td>\n",
       "      <td>0.790802</td>\n",
       "      <td>0.051341</td>\n",
       "      <td>51.522387</td>\n",
       "      <td>...</td>\n",
       "      <td>9987.337683</td>\n",
       "      <td>10035.206276</td>\n",
       "      <td>9.209173</td>\n",
       "      <td>99.936668</td>\n",
       "      <td>-20.0</td>\n",
       "      <td>[5670849155, 5670849154, 21643445, 3639591391,...</td>\n",
       "      <td>14058</td>\n",
       "      <td>54</td>\n",
       "      <td>779</td>\n",
       "      <td>11575</td>\n",
       "    </tr>\n",
       "    <tr>\n",
       "      <th>1</th>\n",
       "      <td>889</td>\n",
       "      <td>2</td>\n",
       "      <td>Newham</td>\n",
       "      <td>542413</td>\n",
       "      <td>182380</td>\n",
       "      <td>542450</td>\n",
       "      <td>182415</td>\n",
       "      <td>0.790802</td>\n",
       "      <td>0.051341</td>\n",
       "      <td>51.522387</td>\n",
       "      <td>...</td>\n",
       "      <td>3066.908052</td>\n",
       "      <td>2790.788419</td>\n",
       "      <td>8.028751</td>\n",
       "      <td>55.379672</td>\n",
       "      <td>-85.0</td>\n",
       "      <td>[5670849155, 21643453, 21643501, 21643502, 216...</td>\n",
       "      <td>4045</td>\n",
       "      <td>42</td>\n",
       "      <td>353</td>\n",
       "      <td>192</td>\n",
       "    </tr>\n",
       "    <tr>\n",
       "      <th>2</th>\n",
       "      <td>145</td>\n",
       "      <td>2</td>\n",
       "      <td>Lewisham</td>\n",
       "      <td>537348</td>\n",
       "      <td>173695</td>\n",
       "      <td>537370</td>\n",
       "      <td>173721</td>\n",
       "      <td>1.159180</td>\n",
       "      <td>-0.025001</td>\n",
       "      <td>51.445594</td>\n",
       "      <td>...</td>\n",
       "      <td>6489.098088</td>\n",
       "      <td>6544.474463</td>\n",
       "      <td>8.778033</td>\n",
       "      <td>80.554938</td>\n",
       "      <td>101.0</td>\n",
       "      <td>[650196, 629137, 432851, 650110, 7197704265, 6...</td>\n",
       "      <td>8546</td>\n",
       "      <td>52</td>\n",
       "      <td>586</td>\n",
       "      <td>4897</td>\n",
       "    </tr>\n",
       "    <tr>\n",
       "      <th>3</th>\n",
       "      <td>932</td>\n",
       "      <td>7</td>\n",
       "      <td>Lewisham</td>\n",
       "      <td>537348</td>\n",
       "      <td>173695</td>\n",
       "      <td>537370</td>\n",
       "      <td>173721</td>\n",
       "      <td>1.159180</td>\n",
       "      <td>-0.025001</td>\n",
       "      <td>51.445594</td>\n",
       "      <td>...</td>\n",
       "      <td>7976.137536</td>\n",
       "      <td>7908.896510</td>\n",
       "      <td>8.984335</td>\n",
       "      <td>89.309224</td>\n",
       "      <td>7.0</td>\n",
       "      <td>[650196, 629137, 432851, 650110, 7197704265, 6...</td>\n",
       "      <td>13153</td>\n",
       "      <td>52</td>\n",
       "      <td>858</td>\n",
       "      <td>9399</td>\n",
       "    </tr>\n",
       "    <tr>\n",
       "      <th>4</th>\n",
       "      <td>808</td>\n",
       "      <td>2</td>\n",
       "      <td>Barking and Dagenham</td>\n",
       "      <td>549480</td>\n",
       "      <td>182645</td>\n",
       "      <td>549514</td>\n",
       "      <td>183612</td>\n",
       "      <td>3.296880</td>\n",
       "      <td>0.153237</td>\n",
       "      <td>51.522967</td>\n",
       "      <td>...</td>\n",
       "      <td>9116.951080</td>\n",
       "      <td>8935.664777</td>\n",
       "      <td>9.118000</td>\n",
       "      <td>95.482727</td>\n",
       "      <td>-76.0</td>\n",
       "      <td>[195822273, 6443477788, 195817780, 195819205, ...</td>\n",
       "      <td>12521</td>\n",
       "      <td>51</td>\n",
       "      <td>860</td>\n",
       "      <td>6178</td>\n",
       "    </tr>\n",
       "  </tbody>\n",
       "</table>\n",
       "<p>5 rows × 34 columns</p>\n",
       "</div>"
      ],
      "text/plain": [
       "   dstid  dow           la_name_src  geoeast_src  geonorth_src  popeast_src  \\\n",
       "0    950    2                Newham       542413        182380       542450   \n",
       "1    889    2                Newham       542413        182380       542450   \n",
       "2    145    2              Lewisham       537348        173695       537370   \n",
       "3    932    7              Lewisham       537348        173695       537370   \n",
       "4    808    2  Barking and Dagenham       549480        182645       549514   \n",
       "\n",
       "   popnorth_src  area_src     src_x      src_y  ...  geo_displacement  \\\n",
       "0        182415  0.790802  0.051341  51.522387  ...       9987.337683   \n",
       "1        182415  0.790802  0.051341  51.522387  ...       3066.908052   \n",
       "2        173721  1.159180 -0.025001  51.445594  ...       6489.098088   \n",
       "3        173721  1.159180 -0.025001  51.445594  ...       7976.137536   \n",
       "4        183612  3.296880  0.153237  51.522967  ...       9116.951080   \n",
       "\n",
       "   pop_displacement  geo_displacement_log geo_displacement_sqrt  direction  \\\n",
       "0      10035.206276              9.209173             99.936668      -20.0   \n",
       "1       2790.788419              8.028751             55.379672      -85.0   \n",
       "2       6544.474463              8.778033             80.554938      101.0   \n",
       "3       7908.896510              8.984335             89.309224        7.0   \n",
       "4       8935.664777              9.118000             95.482727      -76.0   \n",
       "\n",
       "                                   route_travel_time  \\\n",
       "0  [5670849155, 5670849154, 21643445, 3639591391,...   \n",
       "1  [5670849155, 21643453, 21643501, 21643502, 216...   \n",
       "2  [650196, 629137, 432851, 650110, 7197704265, 6...   \n",
       "3  [650196, 629137, 432851, 650110, 7197704265, 6...   \n",
       "4  [195822273, 6443477788, 195817780, 195819205, ...   \n",
       "\n",
       "   road_distance_by_travel_time  maxspeed_travel_time  fastest_travel_time  \\\n",
       "0                         14058                    54                  779   \n",
       "1                          4045                    42                  353   \n",
       "2                          8546                    52                  586   \n",
       "3                         13153                    52                  858   \n",
       "4                         12521                    51                  860   \n",
       "\n",
       "   oneway_length_by_travel_time  \n",
       "0                         11575  \n",
       "1                           192  \n",
       "2                          4897  \n",
       "3                          9399  \n",
       "4                          6178  \n",
       "\n",
       "[5 rows x 34 columns]"
      ]
     },
     "execution_count": 86,
     "metadata": {},
     "output_type": "execute_result"
    }
   ],
   "source": [
    "test.head()"
   ]
  },
  {
   "cell_type": "code",
   "execution_count": null,
   "metadata": {},
   "outputs": [],
   "source": []
  }
 ],
 "metadata": {
  "colab": {
   "collapsed_sections": [
    "RJ7hQDUD7q_V",
    "UPBWW0UL7vFA",
    "P8njNRWf9Cau",
    "Vt7F_-iQ9HEN",
    "RdFNdTVT9RRe",
    "gDOlYBom9YJm",
    "JB4H9-a4f5yk",
    "HWoa_wPFyjnA",
    "Xxx-YT_h8vXT",
    "nBLdW69pw6_3",
    "5fiiY2ZuJHY8"
   ],
   "name": "Competition_Data_Preparation.ipynb",
   "provenance": []
  },
  "kernelspec": {
   "display_name": "Python 3 (ipykernel)",
   "language": "python",
   "name": "python3"
  },
  "language_info": {
   "codemirror_mode": {
    "name": "ipython",
    "version": 3
   },
   "file_extension": ".py",
   "mimetype": "text/x-python",
   "name": "python",
   "nbconvert_exporter": "python",
   "pygments_lexer": "ipython3",
   "version": "3.9.7"
  }
 },
 "nbformat": 4,
 "nbformat_minor": 1
}
