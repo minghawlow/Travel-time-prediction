{
 "cells": [
  {
   "cell_type": "markdown",
   "metadata": {
    "id": "RJ7hQDUD7q_V"
   },
   "source": [
    "# **Import library**"
   ]
  },
  {
   "cell_type": "code",
   "execution_count": 1,
   "metadata": {
    "id": "MgrwmtZkeHoo"
   },
   "outputs": [],
   "source": [
    "import geopandas as gpd\n",
    "import pandas as pd\n",
    "import osmnx as ox\n",
    "import networkx as nx\n",
    "import matplotlib.pyplot as plt\n",
    "import numpy as np\n",
    "import openpyxl\n",
    "\n",
    "from sklearn import metrics\n",
    "from sklearn.svm import SVR\n",
    "from sklearn.preprocessing import OrdinalEncoder\n",
    "from sklearn.model_selection import train_test_split\n",
    "from sklearn.preprocessing import OrdinalEncoder\n",
    "\n",
    "import xgboost as xgb\n",
    "from sklearn.ensemble import RandomForestRegressor\n",
    "from sklearn.linear_model import LinearRegression\n",
    "from sklearn.ensemble import StackingRegressor\n",
    "from xgboost import XGBRegressor\n",
    "\n",
    "import optuna\n",
    "\n",
    "np.random.seed(123)\n",
    "\n",
    "%matplotlib inline\n",
    "plt.rcParams[\"figure.figsize\"] = (16, 8)"
   ]
  },
  {
   "cell_type": "code",
   "execution_count": 2,
   "metadata": {},
   "outputs": [],
   "source": [
    "import warnings\n",
    "warnings.simplefilter(\"ignore\")"
   ]
  },
  {
   "cell_type": "markdown",
   "metadata": {
    "id": "UPBWW0UL7vFA"
   },
   "source": [
    "# ***Data Preparation***"
   ]
  },
  {
   "cell_type": "markdown",
   "metadata": {
    "id": "P8njNRWf9Cau"
   },
   "source": [
    "## **CSV Handling**"
   ]
  },
  {
   "cell_type": "code",
   "execution_count": 3,
   "metadata": {
    "colab": {
     "base_uri": "https://localhost:8080/"
    },
    "id": "bpjHlfeNeLjY",
    "outputId": "0a6734ed-f7a0-4ed2-f600-2bf1121e9a8d"
   },
   "outputs": [
    {
     "data": {
      "text/html": [
       "<div>\n",
       "<style scoped>\n",
       "    .dataframe tbody tr th:only-of-type {\n",
       "        vertical-align: middle;\n",
       "    }\n",
       "\n",
       "    .dataframe tbody tr th {\n",
       "        vertical-align: top;\n",
       "    }\n",
       "\n",
       "    .dataframe thead th {\n",
       "        text-align: right;\n",
       "    }\n",
       "</style>\n",
       "<table border=\"1\" class=\"dataframe\">\n",
       "  <thead>\n",
       "    <tr style=\"text-align: right;\">\n",
       "      <th></th>\n",
       "      <th>sourceid</th>\n",
       "      <th>dstid</th>\n",
       "      <th>dow</th>\n",
       "      <th>mean_travel_time</th>\n",
       "    </tr>\n",
       "  </thead>\n",
       "  <tbody>\n",
       "    <tr>\n",
       "      <th>0</th>\n",
       "      <td>10</td>\n",
       "      <td>241</td>\n",
       "      <td>3</td>\n",
       "      <td>2334.43</td>\n",
       "    </tr>\n",
       "    <tr>\n",
       "      <th>1</th>\n",
       "      <td>10</td>\n",
       "      <td>612</td>\n",
       "      <td>5</td>\n",
       "      <td>1529.83</td>\n",
       "    </tr>\n",
       "    <tr>\n",
       "      <th>2</th>\n",
       "      <td>10</td>\n",
       "      <td>905</td>\n",
       "      <td>4</td>\n",
       "      <td>1390.04</td>\n",
       "    </tr>\n",
       "    <tr>\n",
       "      <th>3</th>\n",
       "      <td>10</td>\n",
       "      <td>407</td>\n",
       "      <td>7</td>\n",
       "      <td>157.91</td>\n",
       "    </tr>\n",
       "    <tr>\n",
       "      <th>4</th>\n",
       "      <td>10</td>\n",
       "      <td>603</td>\n",
       "      <td>4</td>\n",
       "      <td>1781.67</td>\n",
       "    </tr>\n",
       "  </tbody>\n",
       "</table>\n",
       "</div>"
      ],
      "text/plain": [
       "   sourceid  dstid  dow  mean_travel_time\n",
       "0        10    241    3           2334.43\n",
       "1        10    612    5           1529.83\n",
       "2        10    905    4           1390.04\n",
       "3        10    407    7            157.91\n",
       "4        10    603    4           1781.67"
      ]
     },
     "execution_count": 3,
     "metadata": {},
     "output_type": "execute_result"
    }
   ],
   "source": [
    "df = pd.read_excel(\"training_WeeklyAggregate.xlsx\")\n",
    "df.head()"
   ]
  },
  {
   "cell_type": "code",
   "execution_count": 4,
   "metadata": {},
   "outputs": [],
   "source": [
    "test = pd.read_csv(\"testing_dataset.csv\")"
   ]
  },
  {
   "cell_type": "markdown",
   "metadata": {
    "id": "Vt7F_-iQ9HEN"
   },
   "source": [
    "## **GeoJson Handling**"
   ]
  },
  {
   "cell_type": "code",
   "execution_count": 5,
   "metadata": {
    "id": "VZHEELVoeSFu"
   },
   "outputs": [],
   "source": [
    "london = gpd.read_file(\"london.json\")"
   ]
  },
  {
   "cell_type": "code",
   "execution_count": 6,
   "metadata": {
    "colab": {
     "base_uri": "https://localhost:8080/"
    },
    "id": "rAyOZtc-eYvq",
    "outputId": "d213c521-082d-49a6-c874-f1f1560dce88"
   },
   "outputs": [
    {
     "data": {
      "text/plain": [
       "<Geographic 2D CRS: EPSG:4326>\n",
       "Name: WGS 84\n",
       "Axis Info [ellipsoidal]:\n",
       "- Lat[north]: Geodetic latitude (degree)\n",
       "- Lon[east]: Geodetic longitude (degree)\n",
       "Area of Use:\n",
       "- name: World.\n",
       "- bounds: (-180.0, -90.0, 180.0, 90.0)\n",
       "Datum: World Geodetic System 1984 ensemble\n",
       "- Ellipsoid: WGS 84\n",
       "- Prime Meridian: Greenwich"
      ]
     },
     "execution_count": 6,
     "metadata": {},
     "output_type": "execute_result"
    }
   ],
   "source": [
    "london.crs\n",
    "#\"EPSG: 27700\" Projected"
   ]
  },
  {
   "cell_type": "code",
   "execution_count": 7,
   "metadata": {
    "colab": {
     "base_uri": "https://localhost:8080/"
    },
    "id": "_Vzg7jvYeazF",
    "outputId": "7809c658-3a64-4b50-dd34-8894fea7dde1"
   },
   "outputs": [],
   "source": [
    "london[\"MOVEMENT_ID\"] = london[\"MOVEMENT_ID\"].astype(\"int64\")\n",
    "london[\"x\"] = london.centroid.x\n",
    "london[\"y\"] = london.centroid.y"
   ]
  },
  {
   "cell_type": "markdown",
   "metadata": {
    "id": "g6Sw1LOJFI18"
   },
   "source": [
    "# ***OpenStreetMap (OSMnx) Initialization***"
   ]
  },
  {
   "cell_type": "markdown",
   "metadata": {
    "id": "pGmX4JtR4nTh"
   },
   "source": [
    "## Download nodes from OpenStreetMap"
   ]
  },
  {
   "cell_type": "code",
   "execution_count": 8,
   "metadata": {
    "id": "k9eZ9ivlXdzy"
   },
   "outputs": [],
   "source": [
    "G = ox.graph_from_place(\"London, England\", network_type = \"drive\")"
   ]
  },
  {
   "cell_type": "markdown",
   "metadata": {
    "id": "ww3Ici2l4u5i"
   },
   "source": [
    "## Important OSMNx Function"
   ]
  },
  {
   "cell_type": "code",
   "execution_count": 9,
   "metadata": {
    "id": "aunkFKUK0aTa"
   },
   "outputs": [],
   "source": [
    "G = ox.utils_graph.remove_isolated_nodes(G)\n",
    "G = ox.speed.add_edge_speeds(G)\n",
    "G = ox.speed.add_edge_travel_times(G)"
   ]
  },
  {
   "cell_type": "code",
   "execution_count": 10,
   "metadata": {},
   "outputs": [],
   "source": [
    "def get_route(dataframe,attr=\"nodes\", weight=\"length\", cpus=1):\n",
    "    if attr==\"nodes\":\n",
    "        rt = ox.shortest_path(G,dataframe[\"node_id_n_src\"],dataframe[\"node_id_n_dst\"], weight=weight,cpus=cpus)\n",
    "    else:\n",
    "        rt = ox.shortest_path(G,dataframe[\"node_id_e_src\"],dataframe[\"node_id_e_dst\"], weight=weight,cpus=cpus)\n",
    "    return rt"
   ]
  },
  {
   "cell_type": "code",
   "execution_count": 11,
   "metadata": {},
   "outputs": [],
   "source": [
    "def get_attr(route, feature=None):\n",
    "    return ox.utils_graph.get_route_edge_attributes(G,route,feature)"
   ]
  },
  {
   "cell_type": "code",
   "execution_count": 12,
   "metadata": {},
   "outputs": [],
   "source": [
    "def get_attr_count(route, attribute):\n",
    "    attribute_values = []\n",
    "    for u, v in zip(route[:-1], route[1:]):\n",
    "        data = min(G.get_edge_data(u, v).values(), key=lambda x: x[\"length\"])\n",
    "        try:\n",
    "            attribute_value = data[attribute]\n",
    "            attribute_values.append(attribute_value)\n",
    "        except KeyError:\n",
    "            pass\n",
    "    return attribute_values"
   ]
  },
  {
   "cell_type": "markdown",
   "metadata": {
    "id": "5GTKh6f9ODDt"
   },
   "source": [
    "## Extract"
   ]
  },
  {
   "cell_type": "code",
   "execution_count": 13,
   "metadata": {
    "id": "vBXw5nmyOhZO"
   },
   "outputs": [],
   "source": [
    "# Get osmid from London.json\n",
    "london[\"node_id_n\"] = ox.distance.nearest_nodes(G,london.centroid.x,london.centroid.y)\n",
    "london[[\"node_id_e\",\"nodes_id_2\",\"to_drop\"]] = ox.distance.nearest_edges(G,london.centroid.x,london.centroid.y)"
   ]
  },
  {
   "cell_type": "markdown",
   "metadata": {
    "id": "CyORCHqK8mZo"
   },
   "source": [
    "# ***Feature Extraction***"
   ]
  },
  {
   "cell_type": "markdown",
   "metadata": {
    "id": "RdFNdTVT9RRe"
   },
   "source": [
    "## **Get important features from geospatial data**"
   ]
  },
  {
   "cell_type": "code",
   "execution_count": 14,
   "metadata": {
    "colab": {
     "base_uri": "https://localhost:8080/",
     "height": 204
    },
    "id": "Sc0uYE3aPa-d",
    "outputId": "1adf1e1a-9e5e-415e-c2d8-4734d840b992"
   },
   "outputs": [
    {
     "data": {
      "text/html": [
       "<div>\n",
       "<style scoped>\n",
       "    .dataframe tbody tr th:only-of-type {\n",
       "        vertical-align: middle;\n",
       "    }\n",
       "\n",
       "    .dataframe tbody tr th {\n",
       "        vertical-align: top;\n",
       "    }\n",
       "\n",
       "    .dataframe thead th {\n",
       "        text-align: right;\n",
       "    }\n",
       "</style>\n",
       "<table border=\"1\" class=\"dataframe\">\n",
       "  <thead>\n",
       "    <tr style=\"text-align: right;\">\n",
       "      <th></th>\n",
       "      <th>sourceid</th>\n",
       "      <th>dstid</th>\n",
       "      <th>dow</th>\n",
       "      <th>mean_travel_time</th>\n",
       "      <th>la_name_src</th>\n",
       "      <th>geoeast_src</th>\n",
       "      <th>geonorth_src</th>\n",
       "      <th>popeast_src</th>\n",
       "      <th>popnorth_src</th>\n",
       "      <th>area_src</th>\n",
       "      <th>...</th>\n",
       "      <th>la_name_dst</th>\n",
       "      <th>geoeast_dst</th>\n",
       "      <th>geonorth_dst</th>\n",
       "      <th>popeast_dst</th>\n",
       "      <th>popnorth_dst</th>\n",
       "      <th>area_dst</th>\n",
       "      <th>dst_x</th>\n",
       "      <th>dst_y</th>\n",
       "      <th>node_id_n_dst</th>\n",
       "      <th>node_id_e_dst</th>\n",
       "    </tr>\n",
       "  </thead>\n",
       "  <tbody>\n",
       "    <tr>\n",
       "      <th>0</th>\n",
       "      <td>10</td>\n",
       "      <td>241</td>\n",
       "      <td>3</td>\n",
       "      <td>2334.43</td>\n",
       "      <td>Newham</td>\n",
       "      <td>542413</td>\n",
       "      <td>182380</td>\n",
       "      <td>542450</td>\n",
       "      <td>182415</td>\n",
       "      <td>0.790802</td>\n",
       "      <td>...</td>\n",
       "      <td>Lambeth</td>\n",
       "      <td>530851</td>\n",
       "      <td>174285</td>\n",
       "      <td>530876</td>\n",
       "      <td>174289</td>\n",
       "      <td>0.584104</td>\n",
       "      <td>-0.118199</td>\n",
       "      <td>51.452418</td>\n",
       "      <td>33776678</td>\n",
       "      <td>33776696</td>\n",
       "    </tr>\n",
       "    <tr>\n",
       "      <th>1</th>\n",
       "      <td>10</td>\n",
       "      <td>612</td>\n",
       "      <td>5</td>\n",
       "      <td>1529.83</td>\n",
       "      <td>Newham</td>\n",
       "      <td>542413</td>\n",
       "      <td>182380</td>\n",
       "      <td>542450</td>\n",
       "      <td>182415</td>\n",
       "      <td>0.790802</td>\n",
       "      <td>...</td>\n",
       "      <td>Havering</td>\n",
       "      <td>551347</td>\n",
       "      <td>192721</td>\n",
       "      <td>550534</td>\n",
       "      <td>191931</td>\n",
       "      <td>6.279430</td>\n",
       "      <td>0.184471</td>\n",
       "      <td>51.612990</td>\n",
       "      <td>1138048373</td>\n",
       "      <td>25760609</td>\n",
       "    </tr>\n",
       "    <tr>\n",
       "      <th>2</th>\n",
       "      <td>10</td>\n",
       "      <td>905</td>\n",
       "      <td>4</td>\n",
       "      <td>1390.04</td>\n",
       "      <td>Newham</td>\n",
       "      <td>542413</td>\n",
       "      <td>182380</td>\n",
       "      <td>542450</td>\n",
       "      <td>182415</td>\n",
       "      <td>0.790802</td>\n",
       "      <td>...</td>\n",
       "      <td>Southwark</td>\n",
       "      <td>535060</td>\n",
       "      <td>178641</td>\n",
       "      <td>535009</td>\n",
       "      <td>178663</td>\n",
       "      <td>0.662274</td>\n",
       "      <td>-0.056014</td>\n",
       "      <td>51.490606</td>\n",
       "      <td>104397683</td>\n",
       "      <td>270932211</td>\n",
       "    </tr>\n",
       "    <tr>\n",
       "      <th>3</th>\n",
       "      <td>10</td>\n",
       "      <td>407</td>\n",
       "      <td>7</td>\n",
       "      <td>157.91</td>\n",
       "      <td>Newham</td>\n",
       "      <td>542413</td>\n",
       "      <td>182380</td>\n",
       "      <td>542450</td>\n",
       "      <td>182415</td>\n",
       "      <td>0.790802</td>\n",
       "      <td>...</td>\n",
       "      <td>Barking and Dagenham</td>\n",
       "      <td>544366</td>\n",
       "      <td>183515</td>\n",
       "      <td>544543</td>\n",
       "      <td>183531</td>\n",
       "      <td>0.796626</td>\n",
       "      <td>0.079911</td>\n",
       "      <td>51.532079</td>\n",
       "      <td>180624488</td>\n",
       "      <td>180624488</td>\n",
       "    </tr>\n",
       "    <tr>\n",
       "      <th>4</th>\n",
       "      <td>10</td>\n",
       "      <td>603</td>\n",
       "      <td>4</td>\n",
       "      <td>1781.67</td>\n",
       "      <td>Newham</td>\n",
       "      <td>542413</td>\n",
       "      <td>182380</td>\n",
       "      <td>542450</td>\n",
       "      <td>182415</td>\n",
       "      <td>0.790802</td>\n",
       "      <td>...</td>\n",
       "      <td>Enfield</td>\n",
       "      <td>532416</td>\n",
       "      <td>197315</td>\n",
       "      <td>532432</td>\n",
       "      <td>197391</td>\n",
       "      <td>1.282990</td>\n",
       "      <td>-0.087059</td>\n",
       "      <td>51.659039</td>\n",
       "      <td>11377862</td>\n",
       "      <td>11379331</td>\n",
       "    </tr>\n",
       "  </tbody>\n",
       "</table>\n",
       "<p>5 rows × 24 columns</p>\n",
       "</div>"
      ],
      "text/plain": [
       "   sourceid  dstid  dow  mean_travel_time la_name_src  geoeast_src  \\\n",
       "0        10    241    3           2334.43      Newham       542413   \n",
       "1        10    612    5           1529.83      Newham       542413   \n",
       "2        10    905    4           1390.04      Newham       542413   \n",
       "3        10    407    7            157.91      Newham       542413   \n",
       "4        10    603    4           1781.67      Newham       542413   \n",
       "\n",
       "   geonorth_src  popeast_src  popnorth_src  area_src  ...  \\\n",
       "0        182380       542450        182415  0.790802  ...   \n",
       "1        182380       542450        182415  0.790802  ...   \n",
       "2        182380       542450        182415  0.790802  ...   \n",
       "3        182380       542450        182415  0.790802  ...   \n",
       "4        182380       542450        182415  0.790802  ...   \n",
       "\n",
       "            la_name_dst  geoeast_dst  geonorth_dst  popeast_dst popnorth_dst  \\\n",
       "0               Lambeth       530851        174285       530876       174289   \n",
       "1              Havering       551347        192721       550534       191931   \n",
       "2             Southwark       535060        178641       535009       178663   \n",
       "3  Barking and Dagenham       544366        183515       544543       183531   \n",
       "4               Enfield       532416        197315       532432       197391   \n",
       "\n",
       "   area_dst     dst_x      dst_y  node_id_n_dst  node_id_e_dst  \n",
       "0  0.584104 -0.118199  51.452418       33776678       33776696  \n",
       "1  6.279430  0.184471  51.612990     1138048373       25760609  \n",
       "2  0.662274 -0.056014  51.490606      104397683      270932211  \n",
       "3  0.796626  0.079911  51.532079      180624488      180624488  \n",
       "4  1.282990 -0.087059  51.659039       11377862       11379331  \n",
       "\n",
       "[5 rows x 24 columns]"
      ]
     },
     "execution_count": 14,
     "metadata": {},
     "output_type": "execute_result"
    }
   ],
   "source": [
    "ldn = london.drop([\"DISPLAY_NAME\",\"geometry\",\"msoa_code\",\"msoa_name\",\"la_code\",\"nodes_id_2\",\"to_drop\"],axis=1)\n",
    "\n",
    "src = df.merge(ldn, left_on = \"sourceid\", right_on = \"MOVEMENT_ID\", how = \"left\")\n",
    "src = src.rename({\"geoeast\":\"geoeast_src\", \"geonorth\":\"geonorth_src\",\"popeast\":\"popeast_src\",\"popnorth\":\"popnorth_src\",\n",
    "                  \"la_name\":\"la_name_src\",\"area_km2\":\"area_src\", \"msoa_code\":\"msoa_code_src\", \"x\" : \"src_x\", \"y\" : \"src_y\",\n",
    "                 \"node_id_n\" : \"node_id_n_src\", \"node_id_e\" : \"node_id_e_src\"},axis = 1)\n",
    "\n",
    "dst = src.merge(ldn, left_on = \"dstid\", right_on = \"MOVEMENT_ID\", how = \"left\")\n",
    "dst = dst.rename({\"geoeast\":\"geoeast_dst\", \"geonorth\":\"geonorth_dst\",\"popeast\":\"popeast_dst\",\"popnorth\":\"popnorth_dst\",\n",
    "                  \"la_name\":\"la_name_dst\",\"area_km2\":\"area_dst\",\"msoa_code\":\"msoa_code_dst\",\"x\" : \"dst_x\", \"y\" : \"dst_y\",\n",
    "                  \"node_id_n\" : \"node_id_n_dst\", \"node_id_e\" : \"node_id_e_dst\"},axis = 1)\n",
    "\n",
    "df = dst.drop([\"MOVEMENT_ID_x\",\"MOVEMENT_ID_y\"],axis=1)\n",
    "\n",
    "df.head()"
   ]
  },
  {
   "cell_type": "markdown",
   "metadata": {
    "id": "gDOlYBom9YJm"
   },
   "source": [
    "## **Calculate Displacement**"
   ]
  },
  {
   "cell_type": "code",
   "execution_count": 15,
   "metadata": {
    "id": "xZzybEOBgPcA"
   },
   "outputs": [],
   "source": [
    "df[\"geo_displacement\"] = np.linalg.norm(df.loc[:, [\"geoeast_src\",\"geonorth_src\"]].values - df.loc[:, [\"geoeast_dst\",\"geonorth_dst\"]], axis=1)\n",
    "df[\"geo_displacement_sqrt\"] =  np.sqrt(df[\"geo_displacement\"])"
   ]
  },
  {
   "cell_type": "markdown",
   "metadata": {
    "id": "JB4H9-a4f5yk"
   },
   "source": [
    "## **Calculate Direction**"
   ]
  },
  {
   "cell_type": "code",
   "execution_count": 16,
   "metadata": {
    "id": "C9rHU7VP7WlX"
   },
   "outputs": [],
   "source": [
    "xDiff = df.loc[:, \"geonorth_dst\"].values - df.loc[:, \"geonorth_src\"].values\n",
    "yDiff = df.loc[:, \"geoeast_dst\"].values - df.loc[:, \"geoeast_src\"].values\n",
    "df[\"direction\"] = np.round(np.degrees(np.arctan2(yDiff,xDiff)))"
   ]
  },
  {
   "cell_type": "markdown",
   "metadata": {
    "id": "ss-IfHBFAcXh"
   },
   "source": [
    "# **OSMnx features**"
   ]
  },
  {
   "cell_type": "code",
   "execution_count": 17,
   "metadata": {
    "colab": {
     "base_uri": "https://localhost:8080/"
    },
    "id": "-L50fkjjoQaz",
    "outputId": "109dfa82-56f6-450a-bf8e-462ecc60275f"
   },
   "outputs": [],
   "source": [
    "df[\"route_travel_time\"] = get_route(df,weight=\"travel_time\")"
   ]
  },
  {
   "cell_type": "code",
   "execution_count": 18,
   "metadata": {},
   "outputs": [
    {
     "data": {
      "text/plain": [
       "32"
      ]
     },
     "execution_count": 18,
     "metadata": {},
     "output_type": "execute_result"
    }
   ],
   "source": [
    "missing_route_travel_time = df[df[\"route_travel_time\"].isna()]\n",
    "len(missing_route_travel_time)"
   ]
  },
  {
   "cell_type": "markdown",
   "metadata": {
    "id": "GCP-ngzL8vpJ"
   },
   "source": [
    "## Missing route handling"
   ]
  },
  {
   "cell_type": "code",
   "execution_count": 19,
   "metadata": {},
   "outputs": [],
   "source": [
    "df.loc[missing_route_travel_time.index,\"route_travel_time\"] = get_route(missing_route_travel_time,\"edges\",\"travel_time\")"
   ]
  },
  {
   "cell_type": "code",
   "execution_count": 20,
   "metadata": {},
   "outputs": [
    {
     "data": {
      "text/plain": [
       "0"
      ]
     },
     "execution_count": 20,
     "metadata": {},
     "output_type": "execute_result"
    }
   ],
   "source": [
    "missing_route_travel_time = df[df[\"route_travel_time\"].isna()]\n",
    "len(missing_route_travel_time)"
   ]
  },
  {
   "cell_type": "markdown",
   "metadata": {},
   "source": [
    "## Extract Features"
   ]
  },
  {
   "cell_type": "code",
   "execution_count": 21,
   "metadata": {},
   "outputs": [],
   "source": [
    "df[\"maxspeed_travel_time\"] = [round(np.mean(get_attr(row[\"route_travel_time\"], \"speed_kph\"))) for index, row in df.iterrows()]\n",
    "df[\"fastest_travel_time\"] = [round(sum(get_attr(row[\"route_travel_time\"], \"travel_time\"))) for index, row in df.iterrows()]"
   ]
  },
  {
   "cell_type": "code",
   "execution_count": 22,
   "metadata": {},
   "outputs": [],
   "source": [
    "oneway_len=[]\n",
    "for index, row in df.iterrows():\n",
    "    oneway = get_attr(row[\"route_travel_time\"], \"oneway\")\n",
    "    length = get_attr(row[\"route_travel_time\"], \"length\")\n",
    "    one_len = np.array(length)[np.array(oneway)]\n",
    "    oneway_len.append(round(np.sum(one_len)))\n",
    "    \n",
    "df[\"oneway_length_by_travel_time\"] = oneway_len"
   ]
  },
  {
   "cell_type": "markdown",
   "metadata": {},
   "source": [
    "# Categorical to Numerical"
   ]
  },
  {
   "cell_type": "code",
   "execution_count": 23,
   "metadata": {},
   "outputs": [],
   "source": [
    "ordinal_encoder = OrdinalEncoder()\n",
    "object_cols = [\"la_name_src\",\"la_name_dst\"]\n",
    "df[[\"la_name_src_num\",\"la_name_dst_num\"]] = ordinal_encoder.fit_transform(df[object_cols])"
   ]
  },
  {
   "cell_type": "markdown",
   "metadata": {
    "id": "HWoa_wPFyjnA"
   },
   "source": [
    "# **Skewness**"
   ]
  },
  {
   "cell_type": "code",
   "execution_count": 24,
   "metadata": {
    "colab": {
     "base_uri": "https://localhost:8080/",
     "height": 224
    },
    "id": "TdPXJA8LymY6",
    "outputId": "4d2539e0-64ab-4c45-dec3-d1ae5e06a115"
   },
   "outputs": [],
   "source": [
    "df['area_src_reci'] =  1/df.area_src\n",
    "df['area_dst_reci'] =  1/df.area_dst\n",
    "df[\"oneway_length_sqrt\"] = np.sqrt(df[\"oneway_length_by_travel_time\"])"
   ]
  },
  {
   "cell_type": "markdown",
   "metadata": {},
   "source": [
    "# Modelling"
   ]
  },
  {
   "cell_type": "code",
   "execution_count": 25,
   "metadata": {},
   "outputs": [],
   "source": [
    "y = df.mean_travel_time\n",
    "features = ['sourceid','dstid','dow','area_src_reci','area_dst_reci','fastest_travel_time','maxspeed_travel_time','geo_displacement_sqrt','oneway_length_sqrt','la_name_src_num','la_name_dst_num','direction']\n",
    "X = df[features]\n",
    "\n",
    "X_train, X_valid, y_train, y_valid = train_test_split(X, y, train_size=0.8, test_size=0.2,random_state=123)"
   ]
  },
  {
   "cell_type": "markdown",
   "metadata": {},
   "source": [
    "## XGBoost"
   ]
  },
  {
   "cell_type": "code",
   "execution_count": 26,
   "metadata": {},
   "outputs": [],
   "source": [
    "xgb_params = {'learning_rate': 0.024704224090189218,\n",
    "              'reg_lambda': 2.936733664947117,\n",
    "              'reg_alpha': 57.40870727344214,\n",
    "              'subsample': 0.6214411004415425,\n",
    "              'colsample_bytree': 0.6251175460789683,\n",
    "              'max_depth': 6}\n",
    "\n",
    "xgb_model = XGBRegressor(n_estimators = 3642, random_state = 123,**xgb_params)"
   ]
  },
  {
   "cell_type": "markdown",
   "metadata": {},
   "source": [
    "## Random Forest"
   ]
  },
  {
   "cell_type": "code",
   "execution_count": 27,
   "metadata": {},
   "outputs": [],
   "source": [
    "rf_params = {'max_depth':165,\n",
    "             'max_samples': 0.984425471209481,\n",
    "             'max_features': 'auto',\n",
    "             'min_samples_leaf': 1,\n",
    "             'min_samples_split': 2,\n",
    "             'n_estimators': 1832}\n",
    "\n",
    "rf_model = RandomForestRegressor(**rf_params, random_state=123)"
   ]
  },
  {
   "cell_type": "markdown",
   "metadata": {},
   "source": [
    "## Support Vector Regression"
   ]
  },
  {
   "cell_type": "code",
   "execution_count": 28,
   "metadata": {},
   "outputs": [],
   "source": [
    "sv_params = {'degree': 5,\n",
    "             'C': 489.52343725158937, \n",
    "             'coef0': 6.3906450532322845, \n",
    "             'tol': 0.9987114034413603, \n",
    "             'epsilon': 0.5708396421328326}\n",
    "\n",
    "sv = SVR(kernel = 'poly',\n",
    "                gamma = 'scale',\n",
    "                shrinking = True,\n",
    "                cache_size = 200,\n",
    "                verbose = False,\n",
    "                max_iter =-1,**sv_params)"
   ]
  },
  {
   "cell_type": "markdown",
   "metadata": {},
   "source": [
    "## Ensembling"
   ]
  },
  {
   "cell_type": "code",
   "execution_count": 29,
   "metadata": {},
   "outputs": [
    {
     "name": "stdout",
     "output_type": "stream",
     "text": [
      "198.69126099248444\n"
     ]
    }
   ],
   "source": [
    "level0 = list()\n",
    "level0.append(('xgb', xgb_model))\n",
    "level0.append(('svr',sv))\n",
    "level0.append(('rf',rf_model))\n",
    "\n",
    "# define meta learner model\n",
    "level1 = LinearRegression()\n",
    "# define the stacking ensemble\n",
    "model = StackingRegressor(estimators=level0, final_estimator=level1, cv=5)\n",
    "\n",
    "model.fit(X_train,y_train)\n",
    "predictions_ensemble = model.predict(X_valid)\n",
    "rmse_ensemble = np.sqrt(metrics.mean_squared_error(y_valid,predictions_ensemble))\n",
    "\n",
    "print(rmse_ensemble)"
   ]
  },
  {
   "cell_type": "markdown",
   "metadata": {},
   "source": [
    "# Solving for testing dataset"
   ]
  },
  {
   "cell_type": "code",
   "execution_count": 30,
   "metadata": {},
   "outputs": [],
   "source": [
    "ldn = london.drop([\"DISPLAY_NAME\",\"geometry\",\"msoa_code\",\"msoa_name\",\"la_code\",\"nodes_id_2\",\"to_drop\"],axis=1)\n",
    "\n",
    "tsrc = test.merge(ldn, left_on = \"sourceid\", right_on = \"MOVEMENT_ID\", how = \"left\")\n",
    "tsrc = tsrc.rename({\"geoeast\":\"geoeast_src\", \"geonorth\":\"geonorth_src\",\"popeast\":\"popeast_src\",\"popnorth\":\"popnorth_src\",\n",
    "                  \"la_name\":\"la_name_src\",\"area_km2\":\"area_src\", \"msoa_code\":\"msoa_code_src\", \"x\" : \"src_x\", \"y\" : \"src_y\",\n",
    "                 \"node_id_n\" : \"node_id_n_src\", \"node_id_e\" : \"node_id_e_src\"},axis = 1)\n",
    "\n",
    "tdst = tsrc.merge(ldn, left_on = \"dstid\", right_on = \"MOVEMENT_ID\", how = \"left\")\n",
    "tdst = tdst.rename({\"geoeast\":\"geoeast_dst\", \"geonorth\":\"geonorth_dst\",\"popeast\":\"popeast_dst\",\"popnorth\":\"popnorth_dst\",\n",
    "                  \"la_name\":\"la_name_dst\",\"area_km2\":\"area_dst\",\"msoa_code\":\"msoa_code_dst\",\"x\" : \"dst_x\", \"y\" : \"dst_y\",\n",
    "                  \"node_id_n\" : \"node_id_n_dst\", \"node_id_e\" : \"node_id_e_dst\"},axis = 1)\n",
    "\n",
    "test = tdst.drop([\"MOVEMENT_ID_x\",\"MOVEMENT_ID_y\"],axis=1)"
   ]
  },
  {
   "cell_type": "code",
   "execution_count": 31,
   "metadata": {},
   "outputs": [],
   "source": [
    "test[\"geo_displacement\"] = np.linalg.norm(test.loc[:, [\"geoeast_src\",\"geonorth_src\"]].values - test.loc[:, [\"geoeast_dst\",\"geonorth_dst\"]], axis=1)\n",
    "test[\"geo_displacement_sqrt\"] =  np.sqrt(test[\"geo_displacement\"])"
   ]
  },
  {
   "cell_type": "code",
   "execution_count": 32,
   "metadata": {},
   "outputs": [],
   "source": [
    "xDiffTest = test.loc[:, \"geonorth_dst\"].values - test.loc[:, \"geonorth_src\"].values\n",
    "yDiffTest = test.loc[:, \"geoeast_dst\"].values - test.loc[:, \"geoeast_src\"].values\n",
    "test[\"direction\"] = np.round(np.degrees(np.arctan2(yDiffTest,xDiffTest)))"
   ]
  },
  {
   "cell_type": "code",
   "execution_count": 33,
   "metadata": {},
   "outputs": [],
   "source": [
    "test[\"route_travel_time\"] = get_route(test,weight=\"travel_time\")"
   ]
  },
  {
   "cell_type": "code",
   "execution_count": 34,
   "metadata": {},
   "outputs": [
    {
     "data": {
      "text/plain": [
       "5"
      ]
     },
     "execution_count": 34,
     "metadata": {},
     "output_type": "execute_result"
    }
   ],
   "source": [
    "tmissing_route = test[test[\"route_travel_time\"].isna()]\n",
    "len(tmissing_route)"
   ]
  },
  {
   "cell_type": "code",
   "execution_count": 35,
   "metadata": {},
   "outputs": [],
   "source": [
    "test.loc[tmissing_route.index,\"route_travel_time\"] = get_route(tmissing_route,\"edges\",\"travel_time\")"
   ]
  },
  {
   "cell_type": "code",
   "execution_count": 36,
   "metadata": {},
   "outputs": [
    {
     "data": {
      "text/plain": [
       "0"
      ]
     },
     "execution_count": 36,
     "metadata": {},
     "output_type": "execute_result"
    }
   ],
   "source": [
    "tmissing_route = test[test[\"route_travel_time\"].isna()]\n",
    "len(tmissing_route)"
   ]
  },
  {
   "cell_type": "code",
   "execution_count": 37,
   "metadata": {},
   "outputs": [],
   "source": [
    "test[\"maxspeed_travel_time\"] = [round(np.mean(get_attr(row[\"route_travel_time\"], \"speed_kph\"))) for index, row in test.iterrows()]\n",
    "test[\"fastest_travel_time\"] = [round(sum(get_attr(row[\"route_travel_time\"], \"travel_time\"))) for index, row in test.iterrows()]"
   ]
  },
  {
   "cell_type": "code",
   "execution_count": 38,
   "metadata": {},
   "outputs": [],
   "source": [
    "oneway_len_travel_time=[]\n",
    "for index, row in test.iterrows():\n",
    "    oneway = get_attr(row[\"route_travel_time\"], \"oneway\")\n",
    "    length = get_attr(row[\"route_travel_time\"], \"length\")\n",
    "    one_len = np.array(length)[np.array(oneway)]\n",
    "    oneway_len_travel_time.append(round(np.sum(one_len)))\n",
    "    \n",
    "test[\"oneway_length_by_travel_time\"] = oneway_len_travel_time\n"
   ]
  },
  {
   "cell_type": "code",
   "execution_count": 39,
   "metadata": {},
   "outputs": [],
   "source": [
    "test['area_src_reci'] =  1/test.area_src\n",
    "test['area_dst_reci'] =  1/test.area_dst\n",
    "test[\"oneway_length_sqrt\"] = np.sqrt(test[\"oneway_length_by_travel_time\"])"
   ]
  },
  {
   "cell_type": "code",
   "execution_count": 40,
   "metadata": {},
   "outputs": [],
   "source": [
    "test[[\"la_name_src_num\",\"la_name_dst_num\"]] = ordinal_encoder.fit_transform(test[object_cols])"
   ]
  },
  {
   "cell_type": "code",
   "execution_count": 41,
   "metadata": {},
   "outputs": [],
   "source": [
    "test_data = test[features]\n",
    "test_preds = model.predict(test_data)"
   ]
  },
  {
   "cell_type": "code",
   "execution_count": 42,
   "metadata": {},
   "outputs": [],
   "source": [
    "output = pd.DataFrame({'sourceid': test.sourceid,\n",
    "                       'dstid': test.dstid,\n",
    "                       'dow':test.dow,\n",
    "                       'predicted_mean_travel_time':test_preds})\n",
    "\n",
    "output.to_csv('Final_submission3.csv', index=False)"
   ]
  },
  {
   "cell_type": "code",
   "execution_count": 43,
   "metadata": {},
   "outputs": [
    {
     "data": {
      "text/html": [
       "<div>\n",
       "<style scoped>\n",
       "    .dataframe tbody tr th:only-of-type {\n",
       "        vertical-align: middle;\n",
       "    }\n",
       "\n",
       "    .dataframe tbody tr th {\n",
       "        vertical-align: top;\n",
       "    }\n",
       "\n",
       "    .dataframe thead th {\n",
       "        text-align: right;\n",
       "    }\n",
       "</style>\n",
       "<table border=\"1\" class=\"dataframe\">\n",
       "  <thead>\n",
       "    <tr style=\"text-align: right;\">\n",
       "      <th></th>\n",
       "      <th>sourceid</th>\n",
       "      <th>dstid</th>\n",
       "      <th>dow</th>\n",
       "      <th>predicted_mean_travel_time</th>\n",
       "    </tr>\n",
       "  </thead>\n",
       "  <tbody>\n",
       "    <tr>\n",
       "      <th>0</th>\n",
       "      <td>10</td>\n",
       "      <td>950</td>\n",
       "      <td>2</td>\n",
       "      <td>861.060918</td>\n",
       "    </tr>\n",
       "    <tr>\n",
       "      <th>1</th>\n",
       "      <td>10</td>\n",
       "      <td>889</td>\n",
       "      <td>2</td>\n",
       "      <td>572.303803</td>\n",
       "    </tr>\n",
       "    <tr>\n",
       "      <th>2</th>\n",
       "      <td>260</td>\n",
       "      <td>145</td>\n",
       "      <td>2</td>\n",
       "      <td>1022.129473</td>\n",
       "    </tr>\n",
       "    <tr>\n",
       "      <th>3</th>\n",
       "      <td>260</td>\n",
       "      <td>932</td>\n",
       "      <td>7</td>\n",
       "      <td>1373.880369</td>\n",
       "    </tr>\n",
       "    <tr>\n",
       "      <th>4</th>\n",
       "      <td>41</td>\n",
       "      <td>808</td>\n",
       "      <td>2</td>\n",
       "      <td>1152.060452</td>\n",
       "    </tr>\n",
       "    <tr>\n",
       "      <th>...</th>\n",
       "      <td>...</td>\n",
       "      <td>...</td>\n",
       "      <td>...</td>\n",
       "      <td>...</td>\n",
       "    </tr>\n",
       "    <tr>\n",
       "      <th>1957</th>\n",
       "      <td>712</td>\n",
       "      <td>435</td>\n",
       "      <td>7</td>\n",
       "      <td>1384.920442</td>\n",
       "    </tr>\n",
       "    <tr>\n",
       "      <th>1958</th>\n",
       "      <td>200</td>\n",
       "      <td>356</td>\n",
       "      <td>1</td>\n",
       "      <td>2600.342567</td>\n",
       "    </tr>\n",
       "    <tr>\n",
       "      <th>1959</th>\n",
       "      <td>200</td>\n",
       "      <td>716</td>\n",
       "      <td>3</td>\n",
       "      <td>395.489532</td>\n",
       "    </tr>\n",
       "    <tr>\n",
       "      <th>1960</th>\n",
       "      <td>657</td>\n",
       "      <td>549</td>\n",
       "      <td>5</td>\n",
       "      <td>1136.250902</td>\n",
       "    </tr>\n",
       "    <tr>\n",
       "      <th>1961</th>\n",
       "      <td>657</td>\n",
       "      <td>541</td>\n",
       "      <td>1</td>\n",
       "      <td>654.094014</td>\n",
       "    </tr>\n",
       "  </tbody>\n",
       "</table>\n",
       "<p>1962 rows × 4 columns</p>\n",
       "</div>"
      ],
      "text/plain": [
       "      sourceid  dstid  dow  predicted_mean_travel_time\n",
       "0           10    950    2                  861.060918\n",
       "1           10    889    2                  572.303803\n",
       "2          260    145    2                 1022.129473\n",
       "3          260    932    7                 1373.880369\n",
       "4           41    808    2                 1152.060452\n",
       "...        ...    ...  ...                         ...\n",
       "1957       712    435    7                 1384.920442\n",
       "1958       200    356    1                 2600.342567\n",
       "1959       200    716    3                  395.489532\n",
       "1960       657    549    5                 1136.250902\n",
       "1961       657    541    1                  654.094014\n",
       "\n",
       "[1962 rows x 4 columns]"
      ]
     },
     "execution_count": 43,
     "metadata": {},
     "output_type": "execute_result"
    }
   ],
   "source": [
    "output"
   ]
  }
 ],
 "metadata": {
  "colab": {
   "collapsed_sections": [
    "RJ7hQDUD7q_V",
    "UPBWW0UL7vFA",
    "P8njNRWf9Cau",
    "Vt7F_-iQ9HEN",
    "RdFNdTVT9RRe",
    "gDOlYBom9YJm",
    "JB4H9-a4f5yk",
    "HWoa_wPFyjnA",
    "Xxx-YT_h8vXT",
    "nBLdW69pw6_3",
    "5fiiY2ZuJHY8"
   ],
   "name": "Competition_Data_Preparation.ipynb",
   "provenance": []
  },
  "kernelspec": {
   "display_name": "Python 3",
   "language": "python",
   "name": "python3"
  },
  "language_info": {
   "codemirror_mode": {
    "name": "ipython",
    "version": 3
   },
   "file_extension": ".py",
   "mimetype": "text/x-python",
   "name": "python",
   "nbconvert_exporter": "python",
   "pygments_lexer": "ipython3",
   "version": "3.8.8"
  }
 },
 "nbformat": 4,
 "nbformat_minor": 1
}
